{
  "cells": [
    {
      "cell_type": "markdown",
      "metadata": {
        "id": "view-in-github",
        "colab_type": "text"
      },
      "source": [
        "<a href=\"https://colab.research.google.com/github/cheatham1/BackUp/blob/main/Plot_EU_JAV_VaccineStance.ipynb\" target=\"_parent\"><img src=\"https://colab.research.google.com/assets/colab-badge.svg\" alt=\"Open In Colab\"/></a>"
      ]
    },
    {
      "cell_type": "code",
      "execution_count": null,
      "metadata": {
        "id": "JAwPxuNO5OLn"
      },
      "outputs": [],
      "source": [
        "import seaborn as sns\n",
        "import matplotlib.pyplot as plt\n",
        "sns.set_theme(style=\"whitegrid\")\n",
        "\n",
        "from matplotlib import rcParams\n",
        "\n",
        "rcParams['figure.figsize'] = 10, 7\n",
        "myfsize = 17"
      ]
    },
    {
      "cell_type": "code",
      "execution_count": null,
      "metadata": {
        "colab": {
          "base_uri": "https://localhost:8080/"
        },
        "id": "FB8BPCJgAlPH",
        "outputId": "c23dd14c-e8a0-43a6-c7d2-f4d4c0a4c7bf"
      },
      "outputs": [
        {
          "output_type": "stream",
          "name": "stdout",
          "text": [
            "Requirement already satisfied: transformers in /usr/local/lib/python3.7/dist-packages (4.16.2)\n",
            "Requirement already satisfied: sacremoses in /usr/local/lib/python3.7/dist-packages (from transformers) (0.0.47)\n",
            "Requirement already satisfied: tqdm>=4.27 in /usr/local/lib/python3.7/dist-packages (from transformers) (4.62.3)\n",
            "Requirement already satisfied: filelock in /usr/local/lib/python3.7/dist-packages (from transformers) (3.4.2)\n",
            "Requirement already satisfied: importlib-metadata in /usr/local/lib/python3.7/dist-packages (from transformers) (4.10.1)\n",
            "Requirement already satisfied: pyyaml>=5.1 in /usr/local/lib/python3.7/dist-packages (from transformers) (6.0)\n",
            "Requirement already satisfied: packaging>=20.0 in /usr/local/lib/python3.7/dist-packages (from transformers) (21.3)\n",
            "Requirement already satisfied: huggingface-hub<1.0,>=0.1.0 in /usr/local/lib/python3.7/dist-packages (from transformers) (0.4.0)\n",
            "Requirement already satisfied: numpy>=1.17 in /usr/local/lib/python3.7/dist-packages (from transformers) (1.19.5)\n",
            "Requirement already satisfied: tokenizers!=0.11.3,>=0.10.1 in /usr/local/lib/python3.7/dist-packages (from transformers) (0.11.4)\n",
            "Requirement already satisfied: regex!=2019.12.17 in /usr/local/lib/python3.7/dist-packages (from transformers) (2019.12.20)\n",
            "Requirement already satisfied: requests in /usr/local/lib/python3.7/dist-packages (from transformers) (2.23.0)\n",
            "Requirement already satisfied: typing-extensions>=3.7.4.3 in /usr/local/lib/python3.7/dist-packages (from huggingface-hub<1.0,>=0.1.0->transformers) (3.10.0.2)\n",
            "Requirement already satisfied: pyparsing!=3.0.5,>=2.0.2 in /usr/local/lib/python3.7/dist-packages (from packaging>=20.0->transformers) (3.0.7)\n",
            "Requirement already satisfied: zipp>=0.5 in /usr/local/lib/python3.7/dist-packages (from importlib-metadata->transformers) (3.7.0)\n",
            "Requirement already satisfied: chardet<4,>=3.0.2 in /usr/local/lib/python3.7/dist-packages (from requests->transformers) (3.0.4)\n",
            "Requirement already satisfied: certifi>=2017.4.17 in /usr/local/lib/python3.7/dist-packages (from requests->transformers) (2021.10.8)\n",
            "Requirement already satisfied: idna<3,>=2.5 in /usr/local/lib/python3.7/dist-packages (from requests->transformers) (2.10)\n",
            "Requirement already satisfied: urllib3!=1.25.0,!=1.25.1,<1.26,>=1.21.1 in /usr/local/lib/python3.7/dist-packages (from requests->transformers) (1.24.3)\n",
            "Requirement already satisfied: joblib in /usr/local/lib/python3.7/dist-packages (from sacremoses->transformers) (1.1.0)\n",
            "Requirement already satisfied: click in /usr/local/lib/python3.7/dist-packages (from sacremoses->transformers) (7.1.2)\n",
            "Requirement already satisfied: six in /usr/local/lib/python3.7/dist-packages (from sacremoses->transformers) (1.15.0)\n",
            "Requirement already satisfied: sentencepiece in /usr/local/lib/python3.7/dist-packages (0.1.96)\n"
          ]
        }
      ],
      "source": [
        "!pip install --upgrade transformers\n",
        "!pip install sentencepiece\n",
        "\n",
        "import numpy as np\n",
        "import pandas as pd\n",
        "import json\n",
        "\n",
        "import torch\n",
        "\n",
        "from transformers import AutoTokenizer, AutoModel, AutoConfig, AutoModelForSequenceClassification\n",
        "from transformers import XLMRobertaTokenizer, XLMRobertaForSequenceClassification\n",
        "from transformers import pipeline\n"
      ]
    },
    {
      "cell_type": "markdown",
      "metadata": {
        "id": "hqFUjepLjs6m"
      },
      "source": [
        "# New Section"
      ]
    },
    {
      "cell_type": "code",
      "execution_count": null,
      "metadata": {
        "id": "4_7XFCBMU5fr"
      },
      "outputs": [],
      "source": [
        "#model_name = \"Cheatham/xlm-roberta-large-finetuned\"\n",
        "#model_name = \"Cheatham/xlm-roberta-large-finetuned3\" #trained dataset1&2\n",
        "model_name = \"Cheatham/xlm-roberta-large-finetuned4\" #trained dataset1&2\n",
        "#model_name = \"Cheatham/xlm-roberta-base-finetuned\"   #trained dataset1&2\n",
        "\n",
        "#model_name = \"Cheatham/xlm-roberta-large-finetuned-d1\"  #just trained dataset1\n"
      ]
    },
    {
      "cell_type": "code",
      "execution_count": null,
      "metadata": {
        "id": "qY4QX-jX4nxq",
        "colab": {
          "base_uri": "https://localhost:8080/",
          "height": 145,
          "referenced_widgets": [
            "50f8ec691d4542afa803333f3027dfde",
            "6c5d511900b34c1dad74029093799c28",
            "57177b79a6a8475d8faee4ff83f87468",
            "874198ba451d44f89a6aa57240994c20",
            "5881ac3272b44435b9f096e205bd56c7",
            "bf173df61eba421a8b4e7e5f32a979ae",
            "a656aa130cc4475cbeea552072fcb41f",
            "b2553817075d41689a013ded51801af7",
            "22ede5c91430457aa469fb91bc587bc9",
            "86a8865b1df24296a3e15efc01254c1a",
            "62b1c1ca83124d6f9cb8328d97503800",
            "f67a031ba1a142fbb6b16c0663929107",
            "50b8eb665aa44d4a97d9925f2b6d8806",
            "67e4c7ac45504febbdb4ecffd1caa3a6",
            "b8c98113952c4312b1f71ae6f2b26284",
            "fc453250348f49a7952be5394a17d9a5",
            "81b2a03e374a4a0e8b2750bc4b54dc2d",
            "ed83d66df46647439011194e1ae6cf1c",
            "e69bd881c4df40309398c85e5ec64e9f",
            "3572520a5cb240f593c8a60fbb8d8043",
            "2dbb8ce101c8409099fc0e34d2c5be07",
            "b1190324395b4f6eb85dbe3f1e25e40f",
            "c2c1e5a9abfe4983b48d312898ed9c4a",
            "d33d0f3e97424b4489ce2b41b243981b",
            "1cda25a4138b4cb997b9d6106d349d7a",
            "700f9319cdfd445c8a5817aa79462945",
            "7f4f941e60f14cf0b57532c129482a55",
            "2e8a2c13a5d64e6cbf7db3cf3d577b0a",
            "b00e46fb7b4149b8bf81632cdb869429",
            "92c8da759b7a4281bf0806bd950e29ee",
            "f34fc6959ee84b84baba38e281f280a1",
            "b08b3f6fab89402e8b3276e22e57e6ab",
            "967e2ae93a574f15b805182f2ed5f8cc",
            "7f7ab998b79e4dcb978749e64d92fee7",
            "3be360827b5b4c47a48473d6881c47c2",
            "4c07612e7f4b43c5ad19715ae3d13b07",
            "3062c9a48ed34cb591a331655cd33fa5",
            "12cbc54c9bdf44f0a0417c835e64476c",
            "e1b240ab78884f47becaeaf3c10a777f",
            "63cc9d7510a844babbeab069c505f329",
            "980d1d80690f4d37bf9a22fc4dcc9692",
            "d6f92d8aae3c4a3fa9860a4b382471aa",
            "ccd5157f207c496ba8b97c9a2c2b97ba",
            "9c5a57d469a24b6898fdc3449941f42b"
          ]
        },
        "outputId": "e2423abb-8c31-48b7-b93f-a5e6000c9d72"
      },
      "outputs": [
        {
          "output_type": "display_data",
          "data": {
            "application/vnd.jupyter.widget-view+json": {
              "model_id": "50f8ec691d4542afa803333f3027dfde",
              "version_minor": 0,
              "version_major": 2
            },
            "text/plain": [
              "Downloading:   0%|          | 0.00/2.09G [00:00<?, ?B/s]"
            ]
          },
          "metadata": {}
        },
        {
          "output_type": "display_data",
          "data": {
            "application/vnd.jupyter.widget-view+json": {
              "model_id": "f67a031ba1a142fbb6b16c0663929107",
              "version_minor": 0,
              "version_major": 2
            },
            "text/plain": [
              "Downloading:   0%|          | 0.00/611 [00:00<?, ?B/s]"
            ]
          },
          "metadata": {}
        },
        {
          "output_type": "display_data",
          "data": {
            "application/vnd.jupyter.widget-view+json": {
              "model_id": "c2c1e5a9abfe4983b48d312898ed9c4a",
              "version_minor": 0,
              "version_major": 2
            },
            "text/plain": [
              "Downloading:   0%|          | 0.00/4.83M [00:00<?, ?B/s]"
            ]
          },
          "metadata": {}
        },
        {
          "output_type": "display_data",
          "data": {
            "application/vnd.jupyter.widget-view+json": {
              "model_id": "7f7ab998b79e4dcb978749e64d92fee7",
              "version_minor": 0,
              "version_major": 2
            },
            "text/plain": [
              "Downloading:   0%|          | 0.00/238 [00:00<?, ?B/s]"
            ]
          },
          "metadata": {}
        }
      ],
      "source": [
        "config = AutoConfig.from_pretrained(model_name)\n",
        "\n",
        "#model = AutoModelForSequenceClassification.from_pretrained(model_name, config=config)\n",
        "model = XLMRobertaForSequenceClassification.from_pretrained(model_name, config=config)\n",
        "\n",
        "tokenizer = XLMRobertaTokenizer.from_pretrained(model_name)\n"
      ]
    },
    {
      "cell_type": "code",
      "execution_count": null,
      "metadata": {
        "colab": {
          "base_uri": "https://localhost:8080/"
        },
        "id": "Ig8l4B-uEw0N",
        "outputId": "a46f7401-cf4b-4a4b-8e53-744b31a9e4ec"
      },
      "outputs": [
        {
          "output_type": "stream",
          "name": "stdout",
          "text": [
            "sample_data\n"
          ]
        }
      ],
      "source": [
        "!ls"
      ]
    },
    {
      "cell_type": "code",
      "execution_count": null,
      "metadata": {
        "id": "pehpukglAlgU"
      },
      "outputs": [],
      "source": [
        "#test_data = pd.read_csv(\n",
        "    #dataset1 test\n",
        "    #'https://raw.githubusercontent.com/cheatham1/EU-JAV-DATA/main/july_test_3categories_2.csv',\n",
        "\n",
        "    #dataset2 test\n",
        "    #'https://raw.githubusercontent.com/cheatham1/EU-JAV-DATA/main/no_replies_no_mentions_oct_test_3categories_2.csv',\n",
        "\n",
        "  #  names=[\"label\", \"text\"]\n",
        "\n",
        "    # TOTAL dataset2 with dates\n",
        "    #'https://raw.githubusercontent.com/cheatham1/EU-JAV-DATA/main/no_replies_no_mentions_date_oct_3categories.csv',\n",
        "    #names=[\"label\", \"text\",\"YMD\", \"month\"]\n",
        "#)\n",
        "\n",
        "data1 = pd.read_csv('https://raw.githubusercontent.com/cheatham1/EU-JAV-DATA/main/no_replies_no_mentions_dataset1_5categories.csv',\n",
        "     names=[\"label\", \"text\"]\n",
        ")\n",
        "\n",
        "data2 = pd.read_csv('https://raw.githubusercontent.com/cheatham1/EU-JAV-DATA/main/no_replies_no_mentions_dataset2_5categories.csv',\n",
        "      names=[\"label\", \"text\"]\n",
        ")\n",
        "\n",
        "data = data1.append(data2)\n",
        "\n",
        "# just look at ambiguous\n",
        "#test_data = data[ data['label'] == 3 ]\n",
        "\n",
        "# just look at indiscernable\n",
        "test_data = data[ data['label'] == 4 ]"
      ]
    },
    {
      "cell_type": "code",
      "source": [
        "df_labels1 = data1['label'].tolist()\n",
        "df_labels2 = data2['label'].tolist()"
      ],
      "metadata": {
        "id": "wzfBLmPPv7Fb"
      },
      "execution_count": null,
      "outputs": []
    },
    {
      "cell_type": "code",
      "source": [
        "count1 = data1.groupby(['label']).count()\n",
        "count2 = data2.groupby(['label']).count()"
      ],
      "metadata": {
        "id": "2R2zyAWcWS8h"
      },
      "execution_count": null,
      "outputs": []
    },
    {
      "cell_type": "code",
      "source": [
        "count1"
      ],
      "metadata": {
        "colab": {
          "base_uri": "https://localhost:8080/",
          "height": 238
        },
        "id": "FCcI-BKRW2Rr",
        "outputId": "07a0fc40-33e2-44b3-c407-3094ecea56fb"
      },
      "execution_count": null,
      "outputs": [
        {
          "output_type": "execute_result",
          "data": {
            "text/html": [
              "\n",
              "  <div id=\"df-bdaf2695-dfbc-45ab-b888-d9275daed9d3\">\n",
              "    <div class=\"colab-df-container\">\n",
              "      <div>\n",
              "<style scoped>\n",
              "    .dataframe tbody tr th:only-of-type {\n",
              "        vertical-align: middle;\n",
              "    }\n",
              "\n",
              "    .dataframe tbody tr th {\n",
              "        vertical-align: top;\n",
              "    }\n",
              "\n",
              "    .dataframe thead th {\n",
              "        text-align: right;\n",
              "    }\n",
              "</style>\n",
              "<table border=\"1\" class=\"dataframe\">\n",
              "  <thead>\n",
              "    <tr style=\"text-align: right;\">\n",
              "      <th></th>\n",
              "      <th>text</th>\n",
              "    </tr>\n",
              "    <tr>\n",
              "      <th>label</th>\n",
              "      <th></th>\n",
              "    </tr>\n",
              "  </thead>\n",
              "  <tbody>\n",
              "    <tr>\n",
              "      <th>0</th>\n",
              "      <td>421</td>\n",
              "    </tr>\n",
              "    <tr>\n",
              "      <th>1</th>\n",
              "      <td>382</td>\n",
              "    </tr>\n",
              "    <tr>\n",
              "      <th>2</th>\n",
              "      <td>498</td>\n",
              "    </tr>\n",
              "    <tr>\n",
              "      <th>3</th>\n",
              "      <td>31</td>\n",
              "    </tr>\n",
              "    <tr>\n",
              "      <th>4</th>\n",
              "      <td>46</td>\n",
              "    </tr>\n",
              "  </tbody>\n",
              "</table>\n",
              "</div>\n",
              "      <button class=\"colab-df-convert\" onclick=\"convertToInteractive('df-bdaf2695-dfbc-45ab-b888-d9275daed9d3')\"\n",
              "              title=\"Convert this dataframe to an interactive table.\"\n",
              "              style=\"display:none;\">\n",
              "        \n",
              "  <svg xmlns=\"http://www.w3.org/2000/svg\" height=\"24px\"viewBox=\"0 0 24 24\"\n",
              "       width=\"24px\">\n",
              "    <path d=\"M0 0h24v24H0V0z\" fill=\"none\"/>\n",
              "    <path d=\"M18.56 5.44l.94 2.06.94-2.06 2.06-.94-2.06-.94-.94-2.06-.94 2.06-2.06.94zm-11 1L8.5 8.5l.94-2.06 2.06-.94-2.06-.94L8.5 2.5l-.94 2.06-2.06.94zm10 10l.94 2.06.94-2.06 2.06-.94-2.06-.94-.94-2.06-.94 2.06-2.06.94z\"/><path d=\"M17.41 7.96l-1.37-1.37c-.4-.4-.92-.59-1.43-.59-.52 0-1.04.2-1.43.59L10.3 9.45l-7.72 7.72c-.78.78-.78 2.05 0 2.83L4 21.41c.39.39.9.59 1.41.59.51 0 1.02-.2 1.41-.59l7.78-7.78 2.81-2.81c.8-.78.8-2.07 0-2.86zM5.41 20L4 18.59l7.72-7.72 1.47 1.35L5.41 20z\"/>\n",
              "  </svg>\n",
              "      </button>\n",
              "      \n",
              "  <style>\n",
              "    .colab-df-container {\n",
              "      display:flex;\n",
              "      flex-wrap:wrap;\n",
              "      gap: 12px;\n",
              "    }\n",
              "\n",
              "    .colab-df-convert {\n",
              "      background-color: #E8F0FE;\n",
              "      border: none;\n",
              "      border-radius: 50%;\n",
              "      cursor: pointer;\n",
              "      display: none;\n",
              "      fill: #1967D2;\n",
              "      height: 32px;\n",
              "      padding: 0 0 0 0;\n",
              "      width: 32px;\n",
              "    }\n",
              "\n",
              "    .colab-df-convert:hover {\n",
              "      background-color: #E2EBFA;\n",
              "      box-shadow: 0px 1px 2px rgba(60, 64, 67, 0.3), 0px 1px 3px 1px rgba(60, 64, 67, 0.15);\n",
              "      fill: #174EA6;\n",
              "    }\n",
              "\n",
              "    [theme=dark] .colab-df-convert {\n",
              "      background-color: #3B4455;\n",
              "      fill: #D2E3FC;\n",
              "    }\n",
              "\n",
              "    [theme=dark] .colab-df-convert:hover {\n",
              "      background-color: #434B5C;\n",
              "      box-shadow: 0px 1px 3px 1px rgba(0, 0, 0, 0.15);\n",
              "      filter: drop-shadow(0px 1px 2px rgba(0, 0, 0, 0.3));\n",
              "      fill: #FFFFFF;\n",
              "    }\n",
              "  </style>\n",
              "\n",
              "      <script>\n",
              "        const buttonEl =\n",
              "          document.querySelector('#df-bdaf2695-dfbc-45ab-b888-d9275daed9d3 button.colab-df-convert');\n",
              "        buttonEl.style.display =\n",
              "          google.colab.kernel.accessAllowed ? 'block' : 'none';\n",
              "\n",
              "        async function convertToInteractive(key) {\n",
              "          const element = document.querySelector('#df-bdaf2695-dfbc-45ab-b888-d9275daed9d3');\n",
              "          const dataTable =\n",
              "            await google.colab.kernel.invokeFunction('convertToInteractive',\n",
              "                                                     [key], {});\n",
              "          if (!dataTable) return;\n",
              "\n",
              "          const docLinkHtml = 'Like what you see? Visit the ' +\n",
              "            '<a target=\"_blank\" href=https://colab.research.google.com/notebooks/data_table.ipynb>data table notebook</a>'\n",
              "            + ' to learn more about interactive tables.';\n",
              "          element.innerHTML = '';\n",
              "          dataTable['output_type'] = 'display_data';\n",
              "          await google.colab.output.renderOutput(dataTable, element);\n",
              "          const docLink = document.createElement('div');\n",
              "          docLink.innerHTML = docLinkHtml;\n",
              "          element.appendChild(docLink);\n",
              "        }\n",
              "      </script>\n",
              "    </div>\n",
              "  </div>\n",
              "  "
            ],
            "text/plain": [
              "       text\n",
              "label      \n",
              "0       421\n",
              "1       382\n",
              "2       498\n",
              "3        31\n",
              "4        46"
            ]
          },
          "metadata": {},
          "execution_count": 40
        }
      ]
    },
    {
      "cell_type": "code",
      "source": [
        "p = sns.countplot(x=df_labels1, color=p = sns.countplot(x=df_labels1, color='darkblue')\n",
        ")\n",
        "p.set_title(\"Dataset1: Stance Analysis Labelled Data\")\n",
        "p.set_xticklabels([\"Promotional\",\"Neutral\",\"Discouraging\",\"Ambiguous\",\"Indiscenable\"])\n",
        "p.set_title(\"Indicernable Tweets: Stance Analysis Labelled Data\")"
      ],
      "metadata": {
        "colab": {
          "base_uri": "https://localhost:8080/",
          "height": 465
        },
        "id": "XbH55e2VQi3E",
        "outputId": "bd1e2a71-63c6-415f-cd56-daecc8368e2d"
      },
      "execution_count": null,
      "outputs": [
        {
          "output_type": "execute_result",
          "data": {
            "text/plain": [
              "Text(0.5, 1.0, 'Indicernable Tweets: Stance Analysis Labelled Data')"
            ]
          },
          "metadata": {},
          "execution_count": 46
        },
        {
          "output_type": "display_data",
          "data": {
            "image/png": "[encoded data removed]",
            "text/plain": [
              "<Figure size 720x504 with 1 Axes>"
            ]
          },
          "metadata": {}
        }
      ]
    },
    {
      "cell_type": "code",
      "source": [
        "p = sns.countplot(x=df_labels2, color='lightblue')\n"
      ],
      "metadata": {
        "colab": {
          "base_uri": "https://localhost:8080/",
          "height": 431
        },
        "id": "FIf3tItsQrB5",
        "outputId": "e8d8cf2a-2749-4efb-ab11-14ad92f1f515"
      },
      "execution_count": null,
      "outputs": [
        {
          "output_type": "display_data",
          "data": {
            "image/png": "[encoded data removed]",
            "text/plain": [
              "<Figure size 720x504 with 1 Axes>"
            ]
          },
          "metadata": {}
        }
      ]
    },
    {
      "cell_type": "code",
      "source": [],
      "metadata": {
        "id": "VOq6eDcrQrEA"
      },
      "execution_count": null,
      "outputs": []
    },
    {
      "cell_type": "code",
      "execution_count": null,
      "metadata": {
        "id": "GUmDdBeWrUA4"
      },
      "outputs": [],
      "source": [
        "test_data.head(2)"
      ]
    },
    {
      "cell_type": "code",
      "execution_count": null,
      "metadata": {
        "colab": {
          "base_uri": "https://localhost:8080/",
          "height": 36
        },
        "id": "h9GV0bc41mOs",
        "outputId": "2f9e7869-b79b-48b9-b085-ec8d2846e2bc"
      },
      "outputs": [
        {
          "output_type": "execute_result",
          "data": {
            "application/vnd.google.colaboratory.intrinsic+json": {
              "type": "string"
            },
            "text/plain": [
              "'\"non ti bacio perch� ho l\\'influenza! \" \"ma io ho fatto il vaccino\" ???? poetic cinema #uominiedonne'"
            ]
          },
          "metadata": {},
          "execution_count": 7
        }
      ],
      "source": [
        "test_data.text.iloc[1]"
      ]
    },
    {
      "cell_type": "code",
      "execution_count": null,
      "metadata": {
        "id": "URn2E7k5pJ_R"
      },
      "outputs": [],
      "source": [
        "X_test = list(test_data[\"text\"])"
      ]
    },
    {
      "cell_type": "code",
      "execution_count": null,
      "metadata": {
        "colab": {
          "base_uri": "https://localhost:8080/"
        },
        "id": "7GthAM1IbrrR",
        "outputId": "bebd3592-da11-49df-daa3-6ef5c34e2329"
      },
      "outputs": [
        {
          "output_type": "execute_result",
          "data": {
            "text/plain": [
              "116"
            ]
          },
          "metadata": {},
          "execution_count": 9
        }
      ],
      "source": [
        "len(X_test)"
      ]
    },
    {
      "cell_type": "code",
      "execution_count": null,
      "metadata": {
        "colab": {
          "base_uri": "https://localhost:8080/",
          "height": 206
        },
        "id": "b3XA6n04jSfG",
        "outputId": "2398cf94-8f40-4da0-ec61-c9521bdfbc4d"
      },
      "outputs": [
        {
          "output_type": "execute_result",
          "data": {
            "text/html": [
              "\n",
              "  <div id=\"df-b9a2bc82-a52d-483e-9f24-96de36a49a12\">\n",
              "    <div class=\"colab-df-container\">\n",
              "      <div>\n",
              "<style scoped>\n",
              "    .dataframe tbody tr th:only-of-type {\n",
              "        vertical-align: middle;\n",
              "    }\n",
              "\n",
              "    .dataframe tbody tr th {\n",
              "        vertical-align: top;\n",
              "    }\n",
              "\n",
              "    .dataframe thead th {\n",
              "        text-align: right;\n",
              "    }\n",
              "</style>\n",
              "<table border=\"1\" class=\"dataframe\">\n",
              "  <thead>\n",
              "    <tr style=\"text-align: right;\">\n",
              "      <th></th>\n",
              "      <th>label</th>\n",
              "      <th>text</th>\n",
              "    </tr>\n",
              "  </thead>\n",
              "  <tbody>\n",
              "    <tr>\n",
              "      <th>33</th>\n",
              "      <td>4</td>\n",
              "      <td>\"ma le fasce a rischio si tutelano! c'è il vac...</td>\n",
              "    </tr>\n",
              "    <tr>\n",
              "      <th>37</th>\n",
              "      <td>4</td>\n",
              "      <td>\"non ti bacio perch� ho l'influenza! \" \"ma io ...</td>\n",
              "    </tr>\n",
              "    <tr>\n",
              "      <th>83</th>\n",
              "      <td>4</td>\n",
              "      <td>user_ansa allora vi spiego, funziona come l'ap...</td>\n",
              "    </tr>\n",
              "    <tr>\n",
              "      <th>115</th>\n",
              "      <td>4</td>\n",
              "      <td>user user user user user dott porro, la prego,...</td>\n",
              "    </tr>\n",
              "    <tr>\n",
              "      <th>123</th>\n",
              "      <td>4</td>\n",
              "      <td>user gli #illuminati odiano chi oscura la loro...</td>\n",
              "    </tr>\n",
              "  </tbody>\n",
              "</table>\n",
              "</div>\n",
              "      <button class=\"colab-df-convert\" onclick=\"convertToInteractive('df-b9a2bc82-a52d-483e-9f24-96de36a49a12')\"\n",
              "              title=\"Convert this dataframe to an interactive table.\"\n",
              "              style=\"display:none;\">\n",
              "        \n",
              "  <svg xmlns=\"http://www.w3.org/2000/svg\" height=\"24px\"viewBox=\"0 0 24 24\"\n",
              "       width=\"24px\">\n",
              "    <path d=\"M0 0h24v24H0V0z\" fill=\"none\"/>\n",
              "    <path d=\"M18.56 5.44l.94 2.06.94-2.06 2.06-.94-2.06-.94-.94-2.06-.94 2.06-2.06.94zm-11 1L8.5 8.5l.94-2.06 2.06-.94-2.06-.94L8.5 2.5l-.94 2.06-2.06.94zm10 10l.94 2.06.94-2.06 2.06-.94-2.06-.94-.94-2.06-.94 2.06-2.06.94z\"/><path d=\"M17.41 7.96l-1.37-1.37c-.4-.4-.92-.59-1.43-.59-.52 0-1.04.2-1.43.59L10.3 9.45l-7.72 7.72c-.78.78-.78 2.05 0 2.83L4 21.41c.39.39.9.59 1.41.59.51 0 1.02-.2 1.41-.59l7.78-7.78 2.81-2.81c.8-.78.8-2.07 0-2.86zM5.41 20L4 18.59l7.72-7.72 1.47 1.35L5.41 20z\"/>\n",
              "  </svg>\n",
              "      </button>\n",
              "      \n",
              "  <style>\n",
              "    .colab-df-container {\n",
              "      display:flex;\n",
              "      flex-wrap:wrap;\n",
              "      gap: 12px;\n",
              "    }\n",
              "\n",
              "    .colab-df-convert {\n",
              "      background-color: #E8F0FE;\n",
              "      border: none;\n",
              "      border-radius: 50%;\n",
              "      cursor: pointer;\n",
              "      display: none;\n",
              "      fill: #1967D2;\n",
              "      height: 32px;\n",
              "      padding: 0 0 0 0;\n",
              "      width: 32px;\n",
              "    }\n",
              "\n",
              "    .colab-df-convert:hover {\n",
              "      background-color: #E2EBFA;\n",
              "      box-shadow: 0px 1px 2px rgba(60, 64, 67, 0.3), 0px 1px 3px 1px rgba(60, 64, 67, 0.15);\n",
              "      fill: #174EA6;\n",
              "    }\n",
              "\n",
              "    [theme=dark] .colab-df-convert {\n",
              "      background-color: #3B4455;\n",
              "      fill: #D2E3FC;\n",
              "    }\n",
              "\n",
              "    [theme=dark] .colab-df-convert:hover {\n",
              "      background-color: #434B5C;\n",
              "      box-shadow: 0px 1px 3px 1px rgba(0, 0, 0, 0.15);\n",
              "      filter: drop-shadow(0px 1px 2px rgba(0, 0, 0, 0.3));\n",
              "      fill: #FFFFFF;\n",
              "    }\n",
              "  </style>\n",
              "\n",
              "      <script>\n",
              "        const buttonEl =\n",
              "          document.querySelector('#df-b9a2bc82-a52d-483e-9f24-96de36a49a12 button.colab-df-convert');\n",
              "        buttonEl.style.display =\n",
              "          google.colab.kernel.accessAllowed ? 'block' : 'none';\n",
              "\n",
              "        async function convertToInteractive(key) {\n",
              "          const element = document.querySelector('#df-b9a2bc82-a52d-483e-9f24-96de36a49a12');\n",
              "          const dataTable =\n",
              "            await google.colab.kernel.invokeFunction('convertToInteractive',\n",
              "                                                     [key], {});\n",
              "          if (!dataTable) return;\n",
              "\n",
              "          const docLinkHtml = 'Like what you see? Visit the ' +\n",
              "            '<a target=\"_blank\" href=https://colab.research.google.com/notebooks/data_table.ipynb>data table notebook</a>'\n",
              "            + ' to learn more about interactive tables.';\n",
              "          element.innerHTML = '';\n",
              "          dataTable['output_type'] = 'display_data';\n",
              "          await google.colab.output.renderOutput(dataTable, element);\n",
              "          const docLink = document.createElement('div');\n",
              "          docLink.innerHTML = docLinkHtml;\n",
              "          element.appendChild(docLink);\n",
              "        }\n",
              "      </script>\n",
              "    </div>\n",
              "  </div>\n",
              "  "
            ],
            "text/plain": [
              "     label                                               text\n",
              "33       4  \"ma le fasce a rischio si tutelano! c'è il vac...\n",
              "37       4  \"non ti bacio perch� ho l'influenza! \" \"ma io ...\n",
              "83       4  user_ansa allora vi spiego, funziona come l'ap...\n",
              "115      4  user user user user user dott porro, la prego,...\n",
              "123      4  user gli #illuminati odiano chi oscura la loro..."
            ]
          },
          "metadata": {},
          "execution_count": 10
        }
      ],
      "source": [
        "test_data.head()"
      ]
    },
    {
      "cell_type": "code",
      "execution_count": null,
      "metadata": {
        "colab": {
          "base_uri": "https://localhost:8080/"
        },
        "id": "gLWrDOnSqkf9",
        "outputId": "1ceac4ff-597b-4a65-8f84-66ffd9f9feda"
      },
      "outputs": [
        {
          "output_type": "execute_result",
          "data": {
            "text/plain": [
              "label     int64\n",
              "text     object\n",
              "dtype: object"
            ]
          },
          "metadata": {},
          "execution_count": 11
        }
      ],
      "source": [
        "test_data.dtypes"
      ]
    },
    {
      "cell_type": "markdown",
      "metadata": {
        "id": "ZteqVetLA0Z9"
      },
      "source": [
        "## EU-JAVA transformer model\n",
        "## Classification of tweets for vaccine stance\n",
        "\n",
        "In this notebook we will use a transformer model for sequence classification we have finetuned on Italian tweets\n"
      ]
    },
    {
      "cell_type": "code",
      "execution_count": null,
      "metadata": {
        "id": "7EFm2XOyH2Y_"
      },
      "outputs": [],
      "source": [
        "classifier = pipeline( task=\"text-classification\"  , model=model, tokenizer=tokenizer, config=config)"
      ]
    },
    {
      "cell_type": "code",
      "execution_count": null,
      "metadata": {
        "colab": {
          "base_uri": "https://localhost:8080/"
        },
        "id": "k89yQQBgy-1O",
        "outputId": "b83aca33-e54e-4d0b-eb9f-1f2755d6f0f7"
      },
      "outputs": [
        {
          "output_type": "execute_result",
          "data": {
            "text/plain": [
              "[{'label': 'LABEL_2', 'score': 0.9994996786117554}]"
            ]
          },
          "metadata": {},
          "execution_count": 13
        }
      ],
      "source": [
        "classifier([\"avviso vaccino antinfluenzale 2018-19. come il mercurio causa processi neurodegenerativi cerebrali link\"])"
      ]
    },
    {
      "cell_type": "code",
      "execution_count": null,
      "metadata": {
        "colab": {
          "base_uri": "https://localhost:8080/"
        },
        "id": "8wwI9z22Awj2",
        "outputId": "5ff13cc1-bfe5-4ca9-a9d1-efcf8b2f5155"
      },
      "outputs": [
        {
          "output_type": "stream",
          "name": "stdout",
          "text": [
            "Requirement already satisfied: tqdm in /usr/local/lib/python3.7/dist-packages (4.62.3)\n"
          ]
        }
      ],
      "source": [
        "!pip install tqdm\n",
        "from tqdm import tqdm"
      ]
    },
    {
      "cell_type": "code",
      "execution_count": null,
      "metadata": {
        "id": "A_t2cUnKkx8u"
      },
      "outputs": [],
      "source": [
        "import time\n"
      ]
    },
    {
      "cell_type": "code",
      "execution_count": null,
      "metadata": {
        "id": "zhBRPgUlnXak"
      },
      "outputs": [],
      "source": [
        "#@njit(parallel=True)\n",
        "\n",
        "import multiprocessing\n",
        "from multiprocessing import Process, Value"
      ]
    },
    {
      "cell_type": "code",
      "execution_count": null,
      "metadata": {
        "colab": {
          "base_uri": "https://localhost:8080/"
        },
        "id": "FTYo_5QvhFB6",
        "outputId": "22c1dbf9-1df3-4859-b55f-63012951049d"
      },
      "outputs": [
        {
          "output_type": "stream",
          "name": "stdout",
          "text": [
            "time taken to run: 93.33135429499998\n"
          ]
        }
      ],
      "source": [
        "t1 = time.perf_counter()\n",
        "\n",
        "pred_label = []\n",
        "#for out in tqdm(classifier(X_test)):\n",
        "for out in classifier(X_test):\n",
        "    pred_label.append(out)\n",
        "\n",
        "t2 = time.perf_counter()\n",
        "print('time taken to run:',t2-t1)\n"
      ]
    },
    {
      "cell_type": "code",
      "execution_count": null,
      "metadata": {
        "colab": {
          "base_uri": "https://localhost:8080/"
        },
        "id": "3mBPf6H4CsD3",
        "outputId": "85ade140-5e72-4299-af30-1a84707003ee"
      },
      "outputs": [
        {
          "output_type": "execute_result",
          "data": {
            "text/plain": [
              "116"
            ]
          },
          "metadata": {},
          "execution_count": 18
        }
      ],
      "source": [
        "len(pred_label)"
      ]
    },
    {
      "cell_type": "code",
      "execution_count": null,
      "metadata": {
        "colab": {
          "base_uri": "https://localhost:8080/"
        },
        "id": "tHRXurB_Dayf",
        "outputId": "c4f935c8-e4c4-4676-d186-dd9be78e1b5d"
      },
      "outputs": [
        {
          "output_type": "execute_result",
          "data": {
            "text/plain": [
              "[{'label': 'LABEL_0', 'score': 0.9996320009231567},\n",
              " {'label': 'LABEL_0', 'score': 0.9984638690948486},\n",
              " {'label': 'LABEL_1', 'score': 0.9914611577987671},\n",
              " {'label': 'LABEL_1', 'score': 0.9957504272460938},\n",
              " {'label': 'LABEL_0', 'score': 0.9996209144592285},\n",
              " {'label': 'LABEL_2', 'score': 0.9449098110198975},\n",
              " {'label': 'LABEL_0', 'score': 0.9983489513397217},\n",
              " {'label': 'LABEL_0', 'score': 0.4991341233253479},\n",
              " {'label': 'LABEL_1', 'score': 0.9961555600166321},\n",
              " {'label': 'LABEL_0', 'score': 0.9988646507263184}]"
            ]
          },
          "metadata": {},
          "execution_count": 19
        }
      ],
      "source": [
        "pred_label[:10]"
      ]
    },
    {
      "cell_type": "code",
      "execution_count": null,
      "metadata": {
        "id": "wvLCVaWS5Hp1"
      },
      "outputs": [],
      "source": [
        "labels = []\n",
        "for pred in pred_label:\n",
        "    labels.append(pred[\"label\"])\n"
      ]
    },
    {
      "cell_type": "code",
      "execution_count": null,
      "metadata": {
        "id": "U2CmVd22Pa5v"
      },
      "outputs": [],
      "source": [
        "int_labels = []\n",
        "\n",
        "for string in labels:\n",
        "    int_label = string.replace(\"LABEL_\", \"\")\n",
        "    int_label = int(int_label)\n",
        "    int_labels.append(int_label)"
      ]
    },
    {
      "cell_type": "code",
      "execution_count": null,
      "metadata": {
        "colab": {
          "base_uri": "https://localhost:8080/"
        },
        "id": "uxbPIc9mPuhP",
        "outputId": "5032e184-3956-45fe-a1d8-075dbfc4ed90"
      },
      "outputs": [
        {
          "output_type": "execute_result",
          "data": {
            "text/plain": [
              "[0, 0, 1, 1, 0, 2, 0, 0, 1, 0]"
            ]
          },
          "metadata": {},
          "execution_count": 22
        }
      ],
      "source": [
        "int_labels[:10]"
      ]
    },
    {
      "cell_type": "code",
      "source": [
        "int_labels"
      ],
      "metadata": {
        "colab": {
          "base_uri": "https://localhost:8080/"
        },
        "id": "xGGSJiixrjEm",
        "outputId": "d381b5ba-02d6-4117-c33c-d445d7536741"
      },
      "execution_count": null,
      "outputs": [
        {
          "output_type": "execute_result",
          "data": {
            "text/plain": [
              "[0,\n",
              " 0,\n",
              " 1,\n",
              " 1,\n",
              " 0,\n",
              " 2,\n",
              " 0,\n",
              " 0,\n",
              " 1,\n",
              " 0,\n",
              " 1,\n",
              " 0,\n",
              " 2,\n",
              " 1,\n",
              " 1,\n",
              " 1,\n",
              " 0,\n",
              " 2,\n",
              " 1,\n",
              " 0,\n",
              " 2,\n",
              " 2,\n",
              " 2,\n",
              " 1,\n",
              " 0,\n",
              " 0,\n",
              " 0,\n",
              " 1,\n",
              " 0,\n",
              " 2,\n",
              " 0,\n",
              " 0,\n",
              " 2,\n",
              " 2,\n",
              " 2,\n",
              " 2,\n",
              " 1,\n",
              " 2,\n",
              " 1,\n",
              " 1,\n",
              " 2,\n",
              " 2,\n",
              " 1,\n",
              " 1,\n",
              " 1,\n",
              " 2,\n",
              " 0,\n",
              " 0,\n",
              " 1,\n",
              " 2,\n",
              " 0,\n",
              " 2,\n",
              " 0,\n",
              " 2,\n",
              " 2,\n",
              " 2,\n",
              " 1,\n",
              " 1,\n",
              " 0,\n",
              " 2,\n",
              " 0,\n",
              " 2,\n",
              " 0,\n",
              " 0,\n",
              " 0,\n",
              " 2,\n",
              " 1,\n",
              " 0,\n",
              " 1,\n",
              " 0,\n",
              " 0,\n",
              " 2,\n",
              " 1,\n",
              " 1,\n",
              " 1,\n",
              " 0,\n",
              " 2,\n",
              " 2,\n",
              " 0,\n",
              " 2,\n",
              " 2,\n",
              " 0,\n",
              " 2,\n",
              " 0,\n",
              " 1,\n",
              " 2,\n",
              " 0,\n",
              " 1,\n",
              " 2,\n",
              " 2,\n",
              " 2,\n",
              " 1,\n",
              " 1,\n",
              " 0,\n",
              " 2,\n",
              " 2,\n",
              " 2,\n",
              " 0,\n",
              " 0,\n",
              " 1,\n",
              " 0,\n",
              " 0,\n",
              " 0,\n",
              " 0,\n",
              " 2,\n",
              " 2,\n",
              " 2,\n",
              " 2,\n",
              " 2,\n",
              " 0,\n",
              " 2,\n",
              " 1,\n",
              " 2,\n",
              " 1,\n",
              " 0,\n",
              " 0]"
            ]
          },
          "metadata": {},
          "execution_count": 23
        }
      ]
    },
    {
      "cell_type": "code",
      "execution_count": null,
      "metadata": {
        "colab": {
          "base_uri": "https://localhost:8080/",
          "height": 531
        },
        "id": "VPg8H9wn5UGi",
        "outputId": "9d2a597a-ec37-4983-eed3-89d9801ddc16"
      },
      "outputs": [
        {
          "output_type": "execute_result",
          "data": {
            "text/plain": [
              "[Text(0, 0, 'Promotional'), Text(0, 0, 'Neutral'), Text(0, 0, 'Discouraging')]"
            ]
          },
          "metadata": {},
          "execution_count": 45
        },
        {
          "output_type": "display_data",
          "data": {
            "image/png": "[encoded data removed]",
            "text/plain": [
              "<Figure size 1080x576 with 1 Axes>"
            ]
          },
          "metadata": {}
        }
      ],
      "source": [
        "sns.set_palette(\"Blues_r\")\n",
        "p = sns.countplot(x=int_labels)\n",
        "#p.set_title(\"Dataset2: Stance Analysis Model Predictions\",fontsize=myfsize)\n",
        "p.set_title(\"Indicernable Tweets: Stance Analysis Model Predictions\",fontsize=myfsize)\n",
        "p.set_xticklabels([\"Promotional\",\"Neutral\",\"Discouraging\"],fontsize=myfsize)"
      ]
    },
    {
      "cell_type": "code",
      "execution_count": null,
      "metadata": {
        "id": "mjJXg34xP_oE"
      },
      "outputs": [],
      "source": [
        "X_true_labels = list(test_data[\"label\"])"
      ]
    },
    {
      "cell_type": "code",
      "execution_count": null,
      "metadata": {
        "colab": {
          "base_uri": "https://localhost:8080/"
        },
        "id": "SxLw2FBTQDTn",
        "outputId": "3cf12e77-efaf-4004-8ef2-a15aa259d508"
      },
      "outputs": [
        {
          "output_type": "execute_result",
          "data": {
            "text/plain": [
              "[4, 4, 4, 4, 4, 4, 4, 4, 4, 4]"
            ]
          },
          "metadata": {},
          "execution_count": 27
        }
      ],
      "source": [
        "X_true_labels[:10]"
      ]
    },
    {
      "cell_type": "code",
      "execution_count": null,
      "metadata": {
        "colab": {
          "base_uri": "https://localhost:8080/",
          "height": 477
        },
        "id": "u2ImsTVp_teJ",
        "outputId": "a6e25777-bf59-4495-bbcb-e0d00b2c7956"
      },
      "outputs": [
        {
          "output_type": "execute_result",
          "data": {
            "text/plain": [
              "[Text(0, 0, 'Promotional')]"
            ]
          },
          "metadata": {},
          "execution_count": 28
        },
        {
          "output_type": "display_data",
          "data": {
            "image/png": "[encoded data removed]",
            "text/plain": [
              "<Figure size 720x504 with 1 Axes>"
            ]
          },
          "metadata": {}
        }
      ],
      "source": [
        "sns.set_palette(\"Greens_r\")\n",
        "p = sns.countplot(x= X_true_labels)\n",
        "p.set_title(\"Dataset2: Stance Analysis Labelled Data\",fontsize=myfsize)\n",
        "p.set_xticklabels([\"Promotional\",\"Neutral\",\"Discouraging\"],fontsize=myfsize)"
      ]
    },
    {
      "cell_type": "code",
      "source": [
        "test = test_data.copy()\n",
        "test[\"prediction\"] = np.array(int_labels)"
      ],
      "metadata": {
        "id": "7KFFzJRfuYCp"
      },
      "execution_count": null,
      "outputs": []
    },
    {
      "cell_type": "code",
      "source": [
        "test"
      ],
      "metadata": {
        "colab": {
          "base_uri": "https://localhost:8080/",
          "height": 424
        },
        "id": "NNul6nuNvULv",
        "outputId": "d33473d7-2e26-46df-e0e0-4343bd5494d8"
      },
      "execution_count": null,
      "outputs": [
        {
          "output_type": "execute_result",
          "data": {
            "text/html": [
              "\n",
              "  <div id=\"df-b0fb7fc0-a83e-48c7-902e-a74fd58bc311\">\n",
              "    <div class=\"colab-df-container\">\n",
              "      <div>\n",
              "<style scoped>\n",
              "    .dataframe tbody tr th:only-of-type {\n",
              "        vertical-align: middle;\n",
              "    }\n",
              "\n",
              "    .dataframe tbody tr th {\n",
              "        vertical-align: top;\n",
              "    }\n",
              "\n",
              "    .dataframe thead th {\n",
              "        text-align: right;\n",
              "    }\n",
              "</style>\n",
              "<table border=\"1\" class=\"dataframe\">\n",
              "  <thead>\n",
              "    <tr style=\"text-align: right;\">\n",
              "      <th></th>\n",
              "      <th>label</th>\n",
              "      <th>text</th>\n",
              "      <th>prediction</th>\n",
              "    </tr>\n",
              "  </thead>\n",
              "  <tbody>\n",
              "    <tr>\n",
              "      <th>33</th>\n",
              "      <td>4</td>\n",
              "      <td>\"ma le fasce a rischio si tutelano! c'è il vac...</td>\n",
              "      <td>0</td>\n",
              "    </tr>\n",
              "    <tr>\n",
              "      <th>37</th>\n",
              "      <td>4</td>\n",
              "      <td>\"non ti bacio perch� ho l'influenza! \" \"ma io ...</td>\n",
              "      <td>0</td>\n",
              "    </tr>\n",
              "    <tr>\n",
              "      <th>83</th>\n",
              "      <td>4</td>\n",
              "      <td>user_ansa allora vi spiego, funziona come l'ap...</td>\n",
              "      <td>1</td>\n",
              "    </tr>\n",
              "    <tr>\n",
              "      <th>115</th>\n",
              "      <td>4</td>\n",
              "      <td>user user user user user dott porro, la prego,...</td>\n",
              "      <td>1</td>\n",
              "    </tr>\n",
              "    <tr>\n",
              "      <th>123</th>\n",
              "      <td>4</td>\n",
              "      <td>user gli #illuminati odiano chi oscura la loro...</td>\n",
              "      <td>0</td>\n",
              "    </tr>\n",
              "    <tr>\n",
              "      <th>...</th>\n",
              "      <td>...</td>\n",
              "      <td>...</td>\n",
              "      <td>...</td>\n",
              "    </tr>\n",
              "    <tr>\n",
              "      <th>482</th>\n",
              "      <td>4</td>\n",
              "      <td>user user non solo gli usa. avevo visto un art...</td>\n",
              "      <td>1</td>\n",
              "    </tr>\n",
              "    <tr>\n",
              "      <th>489</th>\n",
              "      <td>4</td>\n",
              "      <td>user user vero, ma hanno chiuso dentro le pers...</td>\n",
              "      <td>2</td>\n",
              "    </tr>\n",
              "    <tr>\n",
              "      <th>492</th>\n",
              "      <td>4</td>\n",
              "      <td>user_it vaccino per i preti</td>\n",
              "      <td>1</td>\n",
              "    </tr>\n",
              "    <tr>\n",
              "      <th>503</th>\n",
              "      <td>4</td>\n",
              "      <td>tieni il tempo #vaccini link</td>\n",
              "      <td>0</td>\n",
              "    </tr>\n",
              "    <tr>\n",
              "      <th>511</th>\n",
              "      <td>4</td>\n",
              "      <td>in effetti da quando ho fatto il #vaccino anti...</td>\n",
              "      <td>0</td>\n",
              "    </tr>\n",
              "  </tbody>\n",
              "</table>\n",
              "<p>116 rows × 3 columns</p>\n",
              "</div>\n",
              "      <button class=\"colab-df-convert\" onclick=\"convertToInteractive('df-b0fb7fc0-a83e-48c7-902e-a74fd58bc311')\"\n",
              "              title=\"Convert this dataframe to an interactive table.\"\n",
              "              style=\"display:none;\">\n",
              "        \n",
              "  <svg xmlns=\"http://www.w3.org/2000/svg\" height=\"24px\"viewBox=\"0 0 24 24\"\n",
              "       width=\"24px\">\n",
              "    <path d=\"M0 0h24v24H0V0z\" fill=\"none\"/>\n",
              "    <path d=\"M18.56 5.44l.94 2.06.94-2.06 2.06-.94-2.06-.94-.94-2.06-.94 2.06-2.06.94zm-11 1L8.5 8.5l.94-2.06 2.06-.94-2.06-.94L8.5 2.5l-.94 2.06-2.06.94zm10 10l.94 2.06.94-2.06 2.06-.94-2.06-.94-.94-2.06-.94 2.06-2.06.94z\"/><path d=\"M17.41 7.96l-1.37-1.37c-.4-.4-.92-.59-1.43-.59-.52 0-1.04.2-1.43.59L10.3 9.45l-7.72 7.72c-.78.78-.78 2.05 0 2.83L4 21.41c.39.39.9.59 1.41.59.51 0 1.02-.2 1.41-.59l7.78-7.78 2.81-2.81c.8-.78.8-2.07 0-2.86zM5.41 20L4 18.59l7.72-7.72 1.47 1.35L5.41 20z\"/>\n",
              "  </svg>\n",
              "      </button>\n",
              "      \n",
              "  <style>\n",
              "    .colab-df-container {\n",
              "      display:flex;\n",
              "      flex-wrap:wrap;\n",
              "      gap: 12px;\n",
              "    }\n",
              "\n",
              "    .colab-df-convert {\n",
              "      background-color: #E8F0FE;\n",
              "      border: none;\n",
              "      border-radius: 50%;\n",
              "      cursor: pointer;\n",
              "      display: none;\n",
              "      fill: #1967D2;\n",
              "      height: 32px;\n",
              "      padding: 0 0 0 0;\n",
              "      width: 32px;\n",
              "    }\n",
              "\n",
              "    .colab-df-convert:hover {\n",
              "      background-color: #E2EBFA;\n",
              "      box-shadow: 0px 1px 2px rgba(60, 64, 67, 0.3), 0px 1px 3px 1px rgba(60, 64, 67, 0.15);\n",
              "      fill: #174EA6;\n",
              "    }\n",
              "\n",
              "    [theme=dark] .colab-df-convert {\n",
              "      background-color: #3B4455;\n",
              "      fill: #D2E3FC;\n",
              "    }\n",
              "\n",
              "    [theme=dark] .colab-df-convert:hover {\n",
              "      background-color: #434B5C;\n",
              "      box-shadow: 0px 1px 3px 1px rgba(0, 0, 0, 0.15);\n",
              "      filter: drop-shadow(0px 1px 2px rgba(0, 0, 0, 0.3));\n",
              "      fill: #FFFFFF;\n",
              "    }\n",
              "  </style>\n",
              "\n",
              "      <script>\n",
              "        const buttonEl =\n",
              "          document.querySelector('#df-b0fb7fc0-a83e-48c7-902e-a74fd58bc311 button.colab-df-convert');\n",
              "        buttonEl.style.display =\n",
              "          google.colab.kernel.accessAllowed ? 'block' : 'none';\n",
              "\n",
              "        async function convertToInteractive(key) {\n",
              "          const element = document.querySelector('#df-b0fb7fc0-a83e-48c7-902e-a74fd58bc311');\n",
              "          const dataTable =\n",
              "            await google.colab.kernel.invokeFunction('convertToInteractive',\n",
              "                                                     [key], {});\n",
              "          if (!dataTable) return;\n",
              "\n",
              "          const docLinkHtml = 'Like what you see? Visit the ' +\n",
              "            '<a target=\"_blank\" href=https://colab.research.google.com/notebooks/data_table.ipynb>data table notebook</a>'\n",
              "            + ' to learn more about interactive tables.';\n",
              "          element.innerHTML = '';\n",
              "          dataTable['output_type'] = 'display_data';\n",
              "          await google.colab.output.renderOutput(dataTable, element);\n",
              "          const docLink = document.createElement('div');\n",
              "          docLink.innerHTML = docLinkHtml;\n",
              "          element.appendChild(docLink);\n",
              "        }\n",
              "      </script>\n",
              "    </div>\n",
              "  </div>\n",
              "  "
            ],
            "text/plain": [
              "     label                                               text  prediction\n",
              "33       4  \"ma le fasce a rischio si tutelano! c'è il vac...           0\n",
              "37       4  \"non ti bacio perch� ho l'influenza! \" \"ma io ...           0\n",
              "83       4  user_ansa allora vi spiego, funziona come l'ap...           1\n",
              "115      4  user user user user user dott porro, la prego,...           1\n",
              "123      4  user gli #illuminati odiano chi oscura la loro...           0\n",
              "..     ...                                                ...         ...\n",
              "482      4  user user non solo gli usa. avevo visto un art...           1\n",
              "489      4  user user vero, ma hanno chiuso dentro le pers...           2\n",
              "492      4                        user_it vaccino per i preti           1\n",
              "503      4                       tieni il tempo #vaccini link           0\n",
              "511      4  in effetti da quando ho fatto il #vaccino anti...           0\n",
              "\n",
              "[116 rows x 3 columns]"
            ]
          },
          "metadata": {},
          "execution_count": 30
        }
      ]
    },
    {
      "cell_type": "code",
      "source": [
        "predicted_promotional = test.text[ test['prediction'] == 0 ]\n",
        "predicted_neutral = test.text[ test['prediction'] == 1 ]\n",
        "predicted_discouraging = test.text[ test['prediction'] == 2 ]"
      ],
      "metadata": {
        "id": "MPgBm3wAwBhs"
      },
      "execution_count": null,
      "outputs": []
    },
    {
      "cell_type": "markdown",
      "source": [],
      "metadata": {
        "id": "WfXsHTzZx63X"
      }
    },
    {
      "cell_type": "code",
      "source": [
        "pd.set_option('display.max_colwidth', 400)"
      ],
      "metadata": {
        "id": "xhpiTgdbwo7j"
      },
      "execution_count": null,
      "outputs": []
    },
    {
      "cell_type": "code",
      "source": [
        "print(predicted_promotional.to_string(index=False))"
      ],
      "metadata": {
        "colab": {
          "base_uri": "https://localhost:8080/"
        },
        "id": "vUU1LLeLwBrP",
        "outputId": "3505e61d-08e2-4e40-9c99-e1270a2c9a03"
      },
      "execution_count": null,
      "outputs": [
        {
          "output_type": "stream",
          "name": "stdout",
          "text": [
            "                                                                                                                                                                               \"ma le fasce a rischio si tutelano! c'è il vaccino\"\\n\\nche fa solo il 53,1% della popolazione a rischio.\\n\\nvogliamo ancora prenderci in giro?\\n\\n5/ link\n",
            "                                                                                                                                                                                                                                     \"non ti bacio perch� ho l'influenza! \" \"ma io ho fatto il vaccino\" ???? poetic cinema #uominiedonne\n",
            "                                                                                                                                                                                                                                              user gli #illuminati odiano chi oscura la loro luce !\\n#dedonno\\n#si #sieroterapia\\n#novax\n",
            "                                                              #lariachetirala7..ipocrita.. user  ipocrita..cosa centra il novax.. hai fatto trasmissioni a dire di non fare allarmismo.. di continuare la vita normale a deridere chi chiedeva più controlli.. ora dite il contrario.. a user siete delle banderuole #virus #coronavirus\n",
            "                                                                                                                                                                                                              #miami #italia #mondooggi #covid #diabete #scienza #ricercatori #vaccino #farmaci antidiabetici contro il covid? link link\n",
            "                                                                                                                                                                                                                                                                            5g corona\\n\\ncol vaccino antinfluenzale curiamo il covid-19.\n",
            "                                                                                                                                                                                 anche sbarazzarsi della clinton qualche annetto fa avrebbe salvato molte vite umane. a occhio pi del vaccino contro la rosolia (incredibile, eh?). link\n",
            "                                                                                                                  dall'omeopatia al coronavirus che  meno pericoloso dell'influenza. con il presidente della regione toscana alla fine tutto torna. sto rivalutando gli antivax, almeno non avevano responsabilit di governo.  link link\n",
            "                                                                                                                     e' il top: l'approccio anti betaamiloidi  fallito in tutte le salse (anche sui soggetti appena dignosticati), e cosa si fa? pi approccio antibetaa, preventivo, con un vaccino che ha dato risultati sul topo. link\n",
            "                                                                                                   in realtà la mascherina serve se devi stare a contatto ore con un infetto accertato.\\ni guanti altrettanto.\\nla contaminazione di virus del raffreddore non esiste, o se esiste si tratta di un vaccino naturale. \\nstudio \"arguardt\"\n",
            "                                                                                                                            in tutta questa catastrofe, qualcuno che parli di terapia...\\nqualche notizia positiva...\\n\\nil vaccino “imminente” tra 12 mesi... nello stato in cui siamo,\\nmi sa più di presa per il c...\\n\\n#coronavirus\n",
            "                                                              jonas salk  \"il suo obiettivo era sviluppare un vaccino sicuro ed efficace,rapidamente, senza  interesse al profitto personale.  in una intervista gli fu chiesto chi possedesse il brevetto:  \"la gente, suppongo. non c' brevetto. si pu brevettare il sole?\"  user link\n",
            "                                                                                                                                                                                                                                                                   ma non era già stato creato il vaccino diversi anni fa scusate #ebola\n",
            "                                                                                                          oggi riapre malagrotta per accordi presi in precedenza e fa il vaccino al figlio\\n+\\nmangia con le posate\\nacqua corrente in casa\\nbagno con scarico in fogna\\ncasa non in lamiera\\ncucina i cibi\\n\\nchi è? \\n\\n#morbilloparty\n",
            "                                                                                                                                                                                                                                                                                             però, novak djokovic no-vax è interessante.\n",
            "                                                     una ricerca #pfizer ha concluso che frizionandolo appena sulla testa la copertura vaccinale arriva al 66,6% e aumenta di un tot ogni qualvolta ci specchiamo, fino a raggiungere l'immunizzazione totale dopo il terzo plenilunio, ma solo finché non ci rifacciamo lo shampoo... 🦠\n",
            "                                                                                                                                                                                                                                    user vuoi star lì a perdere un giorno di mare, forse addirittura due, per andare a farti il vaccino?\n",
            "                                                                                                                                                                                                          per liberare il mondo dal virus mattonista non serve un vaccino, basta qualche mattonata in testa\\n\\n#pfizerdown\\n#mattonidown\n",
            "                                                                                                                                                                         una settimana simile non poteva che finire in questo modo... \\n\\n#astrazeneca #pfizer #vaccini #novax #coronavirus #covid #covid19 #covid19italia \\n\\nlink link\n",
            "                                                                                    io comunque raga non ce la faccio più, la pandemia mi ha mentalmente stancata. prima la paura del covid e la solitudine adesso i no vax e il vaccino… sono stanca, poi sono diventata molto pessimista, mi sembra di vivere in un limbo senza futuro\n",
            "                                                                                                               ogni #movimentosociale è figlio di una determinata epoca storica: o è portato a conformarsi all'esistente oppure è portato alla rottura. link #lotteimmediate #sci #sindacato #vaccini #protest #antiforma #crisi #occupy\n",
            "                                                                                                                                                                                              io pagherei per vaccinare tutti coloro che lo vogliono, almeno la finiamo con questa pantomima (e magari si fa anche un po’ di pulizia...)\n",
            "                                                                                                                                                                                                                                                                                                user si puo' sapere se erano vaccinati ?\n",
            "                                                                                                                                                                                                                                                                    user ma fermatevi un po’ a riflettere link #astrazeneca #astrazenaca\n",
            "                                        filosofa?\\ncriminale, no aver pensato in tempo ai vaccini\\ncriminale, no aver chiuso confini\\ncriminale, è stato dire #mascherine non servono\\ncriminale, è comprare #banchiarotelle\\ncriminale, eliminare #zambon\\ncriminale, no aver pensato trasporti\\ncriminale andare a cazzo\\n#dldittatura\n",
            "user user user_it user user user user user user per me non corrisponde a un criterio sanitario che dovrebbe essere centrato sulla vaccinazione di anziani/fragili, per i quali la persuasione basata sulla possibilità di andare in discoteca o al cinema più facilmente è ridicola, avendo frequentato entrambi l’ultima volta nel 1982\n",
            "                                                                                                                                                                                                                                                                          user user vabbè mettici pure ansia da vaccino in quel caso ...\n",
            "                                                                                                                                                                                                                                         il nuovo mood è : “allora fatto vaccino?” 💉 “te e famiglia?” ... i tempi che cambiano. #covid19\n",
            "                                                      user in un paese seri come singapore dove il governo fornisce dati veri e non esiste mala sanita' le probabilita' che si metta male per un non vaccinato sono basse e nulle per un vaccinato. tutte le chiacchiere nostrane e europee, incluse le sue, sono infima propaganda link\n",
            "                                                                                                                                                                                                                                                                                           user sicuramente!\\nscusami è stata vaccinata?\n",
            "                                                                                                                                                                                                                                             approvvigioniamoci di vaccini nel quarto mondo, cosa potrebbe andare storto? #bastalockdown\n",
            "                                                                                                                                                                                                                                                                                                            user user quindi sei no-vax.\n",
            "                                                                 user oggi il titolare di un bar minuscolo dove abitualmente prendo il caffè,senza mascherina mi diceva che non vedeva l ora che entrasse in vigore il green pass per i bar,esponendomi una teoria strana sul contagio tra vaccinati...abitualmente cambierò bar da ieri\n",
            "                                                                                                                                                                                                                                                                    user user ma gente che da un anno e mezzo nega il covid non è novax?\n",
            "                                                               user pensierino della sera:\\nin italia ci sono circa 600.000 decessi all'anno su 60.000.000 abitanti. quindi, statisticamente, dei circa 6.000.000 di persone finora vaccinate circa 60.000 non arriveranno vivi al 31 dicembre.\\n\\nma di che cavolo stiamo parlando....?\n",
            "                                                                                                                             \"i giornalisti mi chiedono se sono vaccinato. perché non chiedono a un omosessuale se è sieropositivo?\"\\n\\nquando non parla di minibot e di debito garantito dallo stato, se la cava alla grande\\n\\n#borghi\n",
            "                                               zaia: «le sospensioni dei sanitari che non si sono ancora vaccinati sono state congelate perché manca personale per sostituirli»\\n\\nchi l'avrebbe mai potuto immaginare!? 🙄\\n#greenpass psichiatrico e titolo di studio a punti, così rilanciamo società e mondo del lavoro.\\n\\n#24luglio\n",
            "                                                                                                                                                                                                                                                user___house anche io ho fatto questo. perché di questo vaccino non se ne sente parlare?\n",
            "                                                                                                                                                                                                                                                                                     user saranno gli ultimi. per ora si sono vaccinati.\n",
            "                                                                                                                                                                                                                                                                                                            user i novax. si ha ragione.\n",
            "                                                                                                                                                                                                                                                                                                            tieni il tempo #vaccini link\n",
            "                                                                                                                                                                             in effetti da quando ho fatto il #vaccino anti #covid vado due volte al giorno al bagno e tutto senza che mi venga chiesto il #greenpass!!\\n\\n#nonégiusto 😜\n"
          ]
        }
      ]
    },
    {
      "cell_type": "code",
      "source": [
        "print(predicted_neutral.to_string(index=False))"
      ],
      "metadata": {
        "colab": {
          "base_uri": "https://localhost:8080/"
        },
        "id": "PwZILEzzysek",
        "outputId": "ad151191-9bdb-472b-c1c1-ac4403b6083b"
      },
      "execution_count": null,
      "outputs": [
        {
          "output_type": "stream",
          "name": "stdout",
          "text": [
            "user_ansa allora vi spiego, funziona come l'app sviluppata in cina che è facoltativa scaricare e segnalarsi se hai virus, ma se non lo fai non puoi entrare in nessun negozio perché vogliono il risultato dell'app. ecco  il vaccino se non lo farai non ti faranno accedere a scuola o altro.\n",
            "                                                                                                                                                          user user user user user dott porro, la prego, mi risponda, un semplice si o un semplice no, lei ha fatto il vaccino antinfluenzale ?\n",
            "                                                                                                                                                                                                                      ++++++breaking news++++++\\nuser ha appena trovato il vaccino per il covid\n",
            "                                                                                                                                                                                                                                                   abbiamo pronto il vaccino è stato già detto?\n",
            "                                                                                                                   certo che di dignità ne hanno ingoiata i grillini,dai tempi del \"no vax\"al\\n\"teniamo tutto chiuso\"perché non c'è ancora il vaccino.\\n\\nmagie poltronistiche.\\n#staseraitalia\n",
            "                                                                                                                           comunque secondo me se fai un prelievo di sangue ai giocatori dell'atalanta e mescoli un po' trovi il vaccino contro il coronavirus, l'ebola e la prossima epidemia.\n",
            "                                                 coronavirus: da menarini kit per test rapidi in 20 minuti -link\\nche strano che in meno di poche settimane, si studi un prodotto che ha pure gia la certificazione ce quando solitamente servono mesi per ottenerla....\\nil vaccino a luglio??\n",
            "                                                            dopo le vacanze estive, trascorse in montagna, gli anziani non torneranno a roma; si rifugeranno sulle montagne per sottrarsi all’obbligo della vaccinazione antinfluenzale voluta da zingaretti. #fenomeni #vaccini #nuovibriganti\n",
            "                                                                                                                                                                                                                il miliardario con le mani sul vaccino vuole diventare il nuovo bill gates link\n",
            "                                                                                                                                                                                                                 luogocomune: id2020: è in arrivo la vaccinazione digitale per tutti?   link 52\n",
            "                                                                               sono dalla parrucchiera e una tipa parlando delle vacanze fa “ avevamo pensato di andare in crociera ma lí sicuramente richiederanno il vaccino...e sia chiaro che il vaccino io non lo faccio!”  \\ngiustamente.\n",
            "                                                            there's always a catch... (andava detta bene: avremo il vaccino a settembre se ci date 100 milioni entro giugno) - si parla del pompatissimo vaccino covid  irbm/oxford , e a me suona un po' stile ensoli, la cosa...\\n\\nlink link\n",
            "       tra i top trend #billgatesisnotourfriend. \\n#colao è amico di #billgates.  \\nè forse qui per imporci il \"vaccino digitale universale\"? \\naumentano le meditazioni collettive planetarie guidate dai discepoli di #gandhi.\\nche sia iniziata la vera guerra guerra tra il bene e il male?\n",
            "                      vaccino coronavirus primo tempo \\nconsegnato a verona\\ndagli alieni provenienti dall'area 51 \\nfinalmente le immagini dell'arrivo degli alieni all'arena di verona tutto questo in diretta ed in tempo reale\\nprodotto originale \\nbuona visione \\nby antonio proce\\nlink\n",
            "                                                                                                                                                                                                                                      vaccino per il #coronavirus è lo spritz \\n#propagandalive\n",
            "                                                                                                                                                                                                                                           vaccino, la soluzione di nicola zingaretti link link\n",
            "                                                                                                                                                                                                                                                              user penso sia per il vaccino sto\n",
            "                                                                                                                                                                                                                                       sono anche su vinted. mi attiverò dopo il vaccino🤣  link\n",
            "  user buon giorno pino, le faccio una domanda ovviamente non provocatoria anzi le sue notizie le ritengo ottime... come mai pfizer e astrazeneca dopo il lancio del vaccino non hanno avuto questo importante aumento nella quotazione mentre crede che celsion e atossa possano farlo? grazie\n",
            "                                                                 user_claudio claudio sei esattamente come un liberale svizzero. io non capisco come mai sia tanto difficile in italia libertà di scelta sulla vaccinazione e pensarla come te da parte del centrodestra renziani e calendiani.\n",
            "                                           scrittura del giorno #13giugno \\nlink\\n\\n#jw #covid19 #coronavirus #covid2019 #covid_19 #covid #covid19italia #covid #covid19italia #covid19italia #vaccino #weekend #buonadomenica #buongiorno #astrazeneca #pfizer #europei2021 #euro2020 #europei\n",
            "                         ad ognuno il suo mestiere.\\n\\nforse, poiché che lo critica, il microbiologo #crisanti è al corrente del piano organizzativo e logistico che il gen. #figliuolo (nominato il 1º marzo 2021, cioè solo quattro giorni fa) sta predisponendo. non credo.\\n#vaccini \\nlink\n",
            "                                                                                                                                                                                                                                                     user user ho bisogno dei vaccini di marco.\n",
            "                                                                                                                                                                           quindi se la gran bretagna è a rischio chiusura i vaccini non funzionano? mentono sapendo di mentire! #staseraitalia\n",
            "                                                                                                                                                  la #gruber che chiede a #salvini di postare il video della sua vaccinazione, sembra la #durso coi matrimoni o le ecografie vip\\n\\n#ottoemezzo\n",
            "                                                                                                                                                                                                                             user il vaccino cinese è un pacco, e il cile ne è la dimostrazione\n",
            "                                                                                                                                                                             user user_lorenzo probabilmente nelle previsioni non erano considerate le vaccinazioni degli over 80,sanitari,rsa.\n",
            "                                                                                                                                                  in pratica non dovete chiedere al vostro sistema immunitario se siete già immunizzati ma dovete seguire le indicazioni di robertino speranza.\n",
            "                                                                                                                                                                                                                                                                    user_ hai fatto il vaccino?\n",
            "                                                                                                     user user non solo gli usa. avevo visto un articolo sulla logistica dei vaccini. l'mrna prodotto in usa, i lipidi per contenerlo mi pare in eu, l'infialamento da un'altra parte ancora...\n",
            "                                                                                                                                                                                                                                                                    user_it vaccino per i preti\n"
          ]
        }
      ]
    },
    {
      "cell_type": "code",
      "source": [
        "print(predicted_discouraging.to_string(index=False))"
      ],
      "metadata": {
        "colab": {
          "base_uri": "https://localhost:8080/"
        },
        "id": "y5qgZYa9ysji",
        "outputId": "531def58-abd5-4ccf-9f3c-4c1364221836"
      },
      "execution_count": null,
      "outputs": [
        {
          "output_type": "stream",
          "name": "stdout",
          "text": [
            "                                  user io mi vaccino. \\nma se davanti a me lo fanno, tanto per cominciare,\\n#burloni, #fazzio, #galli, #arcuri, #borrelli, #brusaferro e ovviamente i maggiori responsabili  #gonte e #mottarello.\\nde giggino non me ne frega #nabibbita.\\n'ndo devo firmà???\n",
            "                                                                                                                                                                                                      bill gates e vaccino con `microchip tatuato`/ torna bufala su `patente di immunità` link\n",
            "                                                                                                                                                                                                 diceva che l’epidemia fosse un’invenzione con la conseguente creazione di un vaccino inutile.\n",
            "                                                                                                                                                                                                                                                              fatevi il vaccino ????????? link\n",
            "il #coronavirus e le #zecche sioniste\\nil 28-02-20 la #metastasi sionista e suoi #shabbat-goyim \\n(servi del sabato) avevano osannato la ricerca medica \\ndei coloni ebrei del ghetto incistato in palestina \\nsul #vaccino #anticoronavirus...\"potrebbe essere pronto in tre settimane\"! link\n",
            "                                                                                                                                                                                                                                           il gruppo sanguigno 0 vaccino contro il covid  link\n",
            "                                                                                                                                                                                                   no dai, andate a ridere a user!!! ve pregoooo!!!! il vaccino ci salverà!! buffoniiiiiii!!!!\n",
            "                                                                                                                                                                                                          qui uno dei volontari per il vaccino di moderna, e le sue reazioni avverse......link\n",
            "                                                                                                          rawon aveva paura di fare il vaccino e minhyun ha deciso di farselo fare solo per far vedere alla bambina che non le avrebbe fatto nulla????  #nuest #???? user #minhyun #??    link\n",
            "                                                                                                                                                                 riassumendo: il vaccino è il messia, la provetta la madonna, il virus il castigo divino, la mascherina la pratica espiatoria.\n",
            "                                                                                        robert gallo dice che si gioca la carriera sul fatto che il vaccino per la polio funziona per almeno qualche mese.\\nguerra la faccia che i guariti sono immuni.user_sman salva con nome, per cortesia.\n",
            "                                                                             spero vivamente che la ricerca del vaccino contro il covid-19 non impedisca alla comunità scientifica di proseguire la sperimentazione su quelli che condannano mussolini primo in tt usando l'hashtag mussolini.\n",
            "                                                                                                                                                                             un ministro che promette un vaccino a breve che di cognome fa \"speranza\".... l'epilogo è già scritto negli astri.\n",
            "                                                                                                                                                                          una possibile verità su israele e il vaccino: ancora bufale combinate -  #possibile #verità #israele #vaccino:  link\n",
            "                                                                                                                                                                          ve l'hanno messa in culo. \\n#plasma #plasmaterapia #vaccino #covid2019italia #coronavirusitalia #fase2 #fasedue link\n",
            "              ora che paralizza la #vaccinazione di massa, ci si accorge che l' #infodemia è stata un crimine? chi ha seminato #terrore, impedendo le cure domiciliari precoci, demonizzando e umiliando tanti medici #ribelli, ora raccoglie i frutti del #centralismo autoritario. vergogna.\n",
            "                                                                                                                                                                                                                         pure il vaccino proletario.\\n\\ndetto da un miliardario.\\n\\ngrandioso.\n",
            "                                                                                                                                                                                                             user_s ma bassetti chi, quello che non si ricordo di essere stato vaccinato? link\n",
            "                                                                                                                                                                                                       user user ma non penso che avendo già  avuto anticorpi formati  poteva fare il vaccino!\n",
            "                                                                                                                                                                                                                                    user gli zii, i cugini si sono vaccinati a loro insaputa 😂\n",
            "                                                                                                                                                                                                                                                                         dua lipa è il vaccino\n",
            "                                                                                                                                                                                                                 user_m user e la vaccinazione con discriminazione?\\nè una variante evolutiva?\n",
            "                                                                                                                          user mughini sei un cafone i soldi che i non vaccinati versano allo stato, quelli ti vanno bene......adolfo, benito, stalin, mao sono santi confrontati con mughini.\n",
            "                                                                                                                                                                            user_claudio user user user per opportunita' intende le cure? questo e' il consenso informato per vaccino.... link\n",
            "                                                                                                                                                                                                                                                                       user è stato il vaccino\n",
            "                                                                                                                                                                                                                          user_1825 user erano tutti vaccinati in quella bolgia ! quindi .. ?!\n",
            "               user user quindi, la prossima volta, magari in caso di elevati livelli isterici di infopandemia, votiamo in massa pena di morte e deportazione in campi di rieducazione di chi si oppone a vaccini \"diversi\" per usare la terminologia della signora multipartitica intervenuta\n",
            "                                                                                                                        visto che il vaccino non inocula il virus attenuato , tutto ciò significa solo che l'utilizzo della pcr come test sia su asintomatici che sintomatici non è corretto !\n",
            "                                         user_cirio questa sarebbe la previsione della decade di effettuazione del vaccino. pre adesione di stamattina. voglio vedere quante volte cambierà la previsione. perché dare dare accazzo tanto per dare l’idea di efficienza sono buoni tutti. link\n",
            "user un'armata brancoladinotte...i casi sono 2...o loro sono stati clonati al cairo (dove gli originali sono reclusi xchè sanno la verità).. e qui sono  impiegati  nella vaccinazione reclutante dei \"semplici\"..\\no sono gli autentici che operano qui ma sotto ricatto..e i familiari..là..\n",
            "                                                                                                                                                                       vaccini una guerra senza esclusione di colpi così il virologo di fama internazionale giulio tarro link a través de user\n",
            "        user prova a instaurare un dibattito sull'accesso ai vaccini ostacolato da gates, mentre attorno la menano con i vaccini g5 e i microchip.\\no prova a far lo stesso con il 9/11 etc.\\nnon vedi che anche tu alla fine sei \"costretto\" a evocare i complotti e a metter le mani avanti?\n",
            "                                                                                                                                                                                                                             user poi il problema dei vaccini è il presunto stato sperimentale\n",
            "                                                                                                                                                                                                                                                          user #novax col vaccino degli altri?\n",
            "                                                                                                                                                                                                                            user i vaccinati non contagiano nessuno.\\nho finito, vostro onore.\n",
            "                                                                                                                                                                                                                                        user_pincopallino ha fatto il vaccino perché anarchico\n",
            "                                                                                                                                                                                                                            hanno visto un maresciallo con una forma di vaccini sotto braccio.\n",
            "                                                                                                                                                                                                questa finisce a mangiare pure il pesce oltre ad essersi fatta pure tutti i vaccini #dissisola\n",
            "                                                                                                                                                                                            ahimè, la nostra cattiva figura.\\nbari padiglioni della fiera del levante #propagadalive\\n#vaccini\n",
            "                                                                                                                                                                                                         ora che l'ha detto barbarella siamo sicuri che i vaccini arriveranno #livenoneladurso\n",
            "                                                                                                                                                                                                                                                 ma sugli alieni sarà efficace il vaccino 😰😰??\n",
            "                                                                                                                                  a dichiarato che il vaccino astrazeneca e efficace già dalla prima dose , allora tutti quelli vaccinati con astrazeneca potete tornare alla normalità . link\n",
            "                          user user vero, ma hanno chiuso dentro le persone con il saldatore. hanno fatto il tracciamento su ogni contagiato, altro che garante della privacy e sui vaccini vanno piano perché il loro fa schifo al cazzo e non vogliono fare figure di merda con l’occidente.\n"
          ]
        }
      ]
    },
    {
      "cell_type": "code",
      "execution_count": null,
      "metadata": {
        "id": "Gn2fl9WJO4Yc"
      },
      "outputs": [],
      "source": [
        "# Compute confusion matrix\n",
        "#import matplotlib.pyplot as plt\n",
        "#import seaborn as sns\n",
        "from sklearn.metrics import confusion_matrix\n",
        "\n",
        "sns.set_theme(style=\"white\", palette=None)"
      ]
    },
    {
      "cell_type": "code",
      "execution_count": null,
      "metadata": {
        "id": "irLlcA9W1UIX"
      },
      "outputs": [],
      "source": [
        "from matplotlib import rcParams\n",
        "rcParams['figure.figsize'] = 8, 8\n",
        "myfont_size = 18"
      ]
    },
    {
      "cell_type": "code",
      "execution_count": null,
      "metadata": {
        "colab": {
          "base_uri": "https://localhost:8080/"
        },
        "id": "BZqMbyw0Qt43",
        "outputId": "403ac7d0-083c-402d-de87-b16a422c54c4"
      },
      "outputs": [
        {
          "output_type": "execute_result",
          "data": {
            "text/plain": [
              "array([[ 0,  0,  0, 42],\n",
              "       [ 0,  0,  0, 31],\n",
              "       [ 0,  0,  0, 43],\n",
              "       [ 0,  0,  0,  0]])"
            ]
          },
          "metadata": {},
          "execution_count": 38
        }
      ],
      "source": [
        "confusion_matrix(int_labels, X_true_labels)"
      ]
    },
    {
      "cell_type": "code",
      "execution_count": null,
      "metadata": {
        "id": "G876AvVhOUlN"
      },
      "outputs": [],
      "source": [
        "def plot_confusion_matrix(cm, classes,\n",
        "                          normalize=False,\n",
        "                          title='Confusion matrix',\n",
        "                          cmap=plt.cm.Blues):\n",
        "    \"\"\"\n",
        "    This function prints and plots the confusion matrix.\n",
        "    Normalization can be applied by setting `normalize=True`.\n",
        "    \"\"\"\n",
        "    if normalize:\n",
        "        cm = cm.astype('float') / cm.sum(axis=1)[:, np.newaxis]\n",
        "        print(\"Normalized confusion matrix\")\n",
        "    else:\n",
        "        print('Confusion matrix, without normalization')\n",
        "\n",
        "    print(cm)\n",
        "\n",
        "    plt.imshow(cm, interpolation='nearest', cmap=cmap)\n",
        "    plt.title(title)\n",
        "    plt.colorbar(shrink=0.7)\n",
        "    tick_marks = np.arange(len(classes))\n",
        "    #plt.xticks(tick_marks, classes, rotation=45)\n",
        "    plt.xticks(tick_marks, classes)\n",
        "    plt.yticks(tick_marks, classes)\n",
        "\n",
        "    fmt = '.2f' if normalize else 'd'\n",
        "    thresh = cm.max() / 2.\n",
        "    for i, j in itertools.product(range(cm.shape[0]), range(cm.shape[1])):\n",
        "        plt.text(j, i, format(cm[i, j], fmt),\n",
        "                 horizontalalignment=\"center\",\n",
        "                 color=\"white\" if cm[i, j] > thresh else \"black\",\n",
        "                 fontsize=myfont_size)\n",
        "\n",
        "    plt.tight_layout()\n",
        "    plt.ylabel('Predicted label',fontsize=myfont_size)\n",
        "    plt.xlabel('True label',fontsize=myfont_size)"
      ]
    },
    {
      "cell_type": "code",
      "execution_count": null,
      "metadata": {
        "colab": {
          "base_uri": "https://localhost:8080/",
          "height": 1000
        },
        "id": "Pwsqcv5RObQp",
        "outputId": "a0966afc-2a0d-4d48-ed5a-d47cb0118f8c"
      },
      "outputs": [
        {
          "output_type": "stream",
          "name": "stdout",
          "text": [
            "Confusion matrix, without normalization\n",
            "[[ 0  0  0 42]\n",
            " [ 0  0  0 31]\n",
            " [ 0  0  0 43]\n",
            " [ 0  0  0  0]]\n"
          ]
        },
        {
          "output_type": "stream",
          "name": "stderr",
          "text": [
            "/usr/local/lib/python3.7/dist-packages/ipykernel_launcher.py:10: RuntimeWarning: invalid value encountered in true_divide\n",
            "  # Remove the CWD from sys.path while we load stuff.\n"
          ]
        },
        {
          "output_type": "stream",
          "name": "stdout",
          "text": [
            "Normalized confusion matrix\n",
            "[[ 0.  0.  0.  1.]\n",
            " [ 0.  0.  0.  1.]\n",
            " [ 0.  0.  0.  1.]\n",
            " [nan nan nan nan]]\n"
          ]
        },
        {
          "output_type": "display_data",
          "data": {
            "image/png": "[encoded data removed]",
            "text/plain": [
              "<Figure size 576x576 with 2 Axes>"
            ]
          },
          "metadata": {}
        },
        {
          "output_type": "display_data",
          "data": {
            "image/png": "[encoded data removed]",
            "text/plain": [
              "<Figure size 576x576 with 2 Axes>"
            ]
          },
          "metadata": {}
        }
      ],
      "source": [
        "import itertools\n",
        "#class_names= [\"Promotional\",\"Neutral\",\"Discouraging\"]\n",
        "class_names= [\"Promotional\",\"Neutral\",\"Discouraging\",\"Ambiguous\"]\n",
        "\n",
        "cnf_matrix = confusion_matrix(int_labels, X_true_labels)\n",
        "np.set_printoptions(precision=2)\n",
        "\n",
        "# Plot non-normalized confusion matrix\n",
        "plt.figure()\n",
        "plot_confusion_matrix(cnf_matrix, classes=class_names)\n",
        "plt.title('Confusion matrix, without normalization',fontsize=myfont_size)\n",
        "\n",
        "\n",
        "# Plot normalized confusion matrix\n",
        "plt.figure()\n",
        "plot_confusion_matrix(cnf_matrix, classes=class_names, normalize=True,\n",
        "                      title='Normalized confusion matrix')\n",
        "plt.title('Normalized Confusion Matrix',fontsize=myfont_size)\n",
        "\n",
        "plt.tight_layout()\n",
        "#plt.savefig(\"ConfusionMatrix.png\")\n",
        "plt.show()"
      ]
    },
    {
      "cell_type": "code",
      "execution_count": null,
      "metadata": {
        "id": "I7RpjsyWObaa",
        "colab": {
          "base_uri": "https://localhost:8080/"
        },
        "outputId": "9ba14c3f-887c-4f84-994f-d02fc573b18d"
      },
      "outputs": [
        {
          "output_type": "stream",
          "name": "stderr",
          "text": [
            "/usr/local/lib/python3.7/dist-packages/ipykernel_launcher.py:1: SettingWithCopyWarning: \n",
            "A value is trying to be set on a copy of a slice from a DataFrame.\n",
            "Try using .loc[row_indexer,col_indexer] = value instead\n",
            "\n",
            "See the caveats in the documentation: https://pandas.pydata.org/pandas-docs/stable/user_guide/indexing.html#returning-a-view-versus-a-copy\n",
            "  \"\"\"Entry point for launching an IPython kernel.\n"
          ]
        }
      ],
      "source": [
        "test_data[\"Prediction\"] = int_labels"
      ]
    },
    {
      "cell_type": "code",
      "execution_count": null,
      "metadata": {
        "colab": {
          "base_uri": "https://localhost:8080/",
          "height": 459
        },
        "id": "VToETaakObc3",
        "outputId": "f9631bdd-258c-4c01-a481-81b0ff5c72d2"
      },
      "outputs": [
        {
          "output_type": "execute_result",
          "data": {
            "text/html": [
              "\n",
              "  <div id=\"df-13cfd5b4-09da-449c-91af-5218736a8a92\">\n",
              "    <div class=\"colab-df-container\">\n",
              "      <div>\n",
              "<style scoped>\n",
              "    .dataframe tbody tr th:only-of-type {\n",
              "        vertical-align: middle;\n",
              "    }\n",
              "\n",
              "    .dataframe tbody tr th {\n",
              "        vertical-align: top;\n",
              "    }\n",
              "\n",
              "    .dataframe thead th {\n",
              "        text-align: right;\n",
              "    }\n",
              "</style>\n",
              "<table border=\"1\" class=\"dataframe\">\n",
              "  <thead>\n",
              "    <tr style=\"text-align: right;\">\n",
              "      <th></th>\n",
              "      <th>label</th>\n",
              "      <th>text</th>\n",
              "      <th>Prediction</th>\n",
              "    </tr>\n",
              "  </thead>\n",
              "  <tbody>\n",
              "    <tr>\n",
              "      <th>33</th>\n",
              "      <td>4</td>\n",
              "      <td>\"ma le fasce a rischio si tutelano! c'è il vaccino\"\\n\\nche fa solo il 53,1% della popolazione a rischio.\\n\\nvogliamo ancora prenderci in giro?\\n\\n5/ link</td>\n",
              "      <td>0</td>\n",
              "    </tr>\n",
              "    <tr>\n",
              "      <th>37</th>\n",
              "      <td>4</td>\n",
              "      <td>\"non ti bacio perch� ho l'influenza! \" \"ma io ho fatto il vaccino\" ???? poetic cinema #uominiedonne</td>\n",
              "      <td>0</td>\n",
              "    </tr>\n",
              "    <tr>\n",
              "      <th>83</th>\n",
              "      <td>4</td>\n",
              "      <td>user_ansa allora vi spiego, funziona come l'app sviluppata in cina che è facoltativa scaricare e segnalarsi se hai virus, ma se non lo fai non puoi entrare in nessun negozio perché vogliono il risultato dell'app. ecco  il vaccino se non lo farai non ti faranno accedere a scuola o altro.</td>\n",
              "      <td>1</td>\n",
              "    </tr>\n",
              "    <tr>\n",
              "      <th>115</th>\n",
              "      <td>4</td>\n",
              "      <td>user user user user user dott porro, la prego, mi risponda, un semplice si o un semplice no, lei ha fatto il vaccino antinfluenzale ?</td>\n",
              "      <td>1</td>\n",
              "    </tr>\n",
              "    <tr>\n",
              "      <th>123</th>\n",
              "      <td>4</td>\n",
              "      <td>user gli #illuminati odiano chi oscura la loro luce !\\n#dedonno\\n#si #sieroterapia\\n#novax</td>\n",
              "      <td>0</td>\n",
              "    </tr>\n",
              "    <tr>\n",
              "      <th>338</th>\n",
              "      <td>4</td>\n",
              "      <td>user io mi vaccino. \\nma se davanti a me lo fanno, tanto per cominciare,\\n#burloni, #fazzio, #galli, #arcuri, #borrelli, #brusaferro e ovviamente i maggiori responsabili  #gonte e #mottarello.\\nde giggino non me ne frega #nabibbita.\\n'ndo devo firmà???</td>\n",
              "      <td>2</td>\n",
              "    </tr>\n",
              "    <tr>\n",
              "      <th>408</th>\n",
              "      <td>4</td>\n",
              "      <td>#lariachetirala7..ipocrita.. user  ipocrita..cosa centra il novax.. hai fatto trasmissioni a dire di non fare allarmismo.. di continuare la vita normale a deridere chi chiedeva più controlli.. ora dite il contrario.. a user siete delle banderuole #virus #coronavirus</td>\n",
              "      <td>0</td>\n",
              "    </tr>\n",
              "    <tr>\n",
              "      <th>413</th>\n",
              "      <td>4</td>\n",
              "      <td>#miami #italia #mondooggi #covid #diabete #scienza #ricercatori #vaccino #farmaci antidiabetici contro il covid? link link</td>\n",
              "      <td>0</td>\n",
              "    </tr>\n",
              "    <tr>\n",
              "      <th>444</th>\n",
              "      <td>4</td>\n",
              "      <td>++++++breaking news++++++\\nuser ha appena trovato il vaccino per il covid</td>\n",
              "      <td>1</td>\n",
              "    </tr>\n",
              "    <tr>\n",
              "      <th>456</th>\n",
              "      <td>4</td>\n",
              "      <td>5g corona\\n\\ncol vaccino antinfluenzale curiamo il covid-19.</td>\n",
              "      <td>0</td>\n",
              "    </tr>\n",
              "  </tbody>\n",
              "</table>\n",
              "</div>\n",
              "      <button class=\"colab-df-convert\" onclick=\"convertToInteractive('df-13cfd5b4-09da-449c-91af-5218736a8a92')\"\n",
              "              title=\"Convert this dataframe to an interactive table.\"\n",
              "              style=\"display:none;\">\n",
              "        \n",
              "  <svg xmlns=\"http://www.w3.org/2000/svg\" height=\"24px\"viewBox=\"0 0 24 24\"\n",
              "       width=\"24px\">\n",
              "    <path d=\"M0 0h24v24H0V0z\" fill=\"none\"/>\n",
              "    <path d=\"M18.56 5.44l.94 2.06.94-2.06 2.06-.94-2.06-.94-.94-2.06-.94 2.06-2.06.94zm-11 1L8.5 8.5l.94-2.06 2.06-.94-2.06-.94L8.5 2.5l-.94 2.06-2.06.94zm10 10l.94 2.06.94-2.06 2.06-.94-2.06-.94-.94-2.06-.94 2.06-2.06.94z\"/><path d=\"M17.41 7.96l-1.37-1.37c-.4-.4-.92-.59-1.43-.59-.52 0-1.04.2-1.43.59L10.3 9.45l-7.72 7.72c-.78.78-.78 2.05 0 2.83L4 21.41c.39.39.9.59 1.41.59.51 0 1.02-.2 1.41-.59l7.78-7.78 2.81-2.81c.8-.78.8-2.07 0-2.86zM5.41 20L4 18.59l7.72-7.72 1.47 1.35L5.41 20z\"/>\n",
              "  </svg>\n",
              "      </button>\n",
              "      \n",
              "  <style>\n",
              "    .colab-df-container {\n",
              "      display:flex;\n",
              "      flex-wrap:wrap;\n",
              "      gap: 12px;\n",
              "    }\n",
              "\n",
              "    .colab-df-convert {\n",
              "      background-color: #E8F0FE;\n",
              "      border: none;\n",
              "      border-radius: 50%;\n",
              "      cursor: pointer;\n",
              "      display: none;\n",
              "      fill: #1967D2;\n",
              "      height: 32px;\n",
              "      padding: 0 0 0 0;\n",
              "      width: 32px;\n",
              "    }\n",
              "\n",
              "    .colab-df-convert:hover {\n",
              "      background-color: #E2EBFA;\n",
              "      box-shadow: 0px 1px 2px rgba(60, 64, 67, 0.3), 0px 1px 3px 1px rgba(60, 64, 67, 0.15);\n",
              "      fill: #174EA6;\n",
              "    }\n",
              "\n",
              "    [theme=dark] .colab-df-convert {\n",
              "      background-color: #3B4455;\n",
              "      fill: #D2E3FC;\n",
              "    }\n",
              "\n",
              "    [theme=dark] .colab-df-convert:hover {\n",
              "      background-color: #434B5C;\n",
              "      box-shadow: 0px 1px 3px 1px rgba(0, 0, 0, 0.15);\n",
              "      filter: drop-shadow(0px 1px 2px rgba(0, 0, 0, 0.3));\n",
              "      fill: #FFFFFF;\n",
              "    }\n",
              "  </style>\n",
              "\n",
              "      <script>\n",
              "        const buttonEl =\n",
              "          document.querySelector('#df-13cfd5b4-09da-449c-91af-5218736a8a92 button.colab-df-convert');\n",
              "        buttonEl.style.display =\n",
              "          google.colab.kernel.accessAllowed ? 'block' : 'none';\n",
              "\n",
              "        async function convertToInteractive(key) {\n",
              "          const element = document.querySelector('#df-13cfd5b4-09da-449c-91af-5218736a8a92');\n",
              "          const dataTable =\n",
              "            await google.colab.kernel.invokeFunction('convertToInteractive',\n",
              "                                                     [key], {});\n",
              "          if (!dataTable) return;\n",
              "\n",
              "          const docLinkHtml = 'Like what you see? Visit the ' +\n",
              "            '<a target=\"_blank\" href=https://colab.research.google.com/notebooks/data_table.ipynb>data table notebook</a>'\n",
              "            + ' to learn more about interactive tables.';\n",
              "          element.innerHTML = '';\n",
              "          dataTable['output_type'] = 'display_data';\n",
              "          await google.colab.output.renderOutput(dataTable, element);\n",
              "          const docLink = document.createElement('div');\n",
              "          docLink.innerHTML = docLinkHtml;\n",
              "          element.appendChild(docLink);\n",
              "        }\n",
              "      </script>\n",
              "    </div>\n",
              "  </div>\n",
              "  "
            ],
            "text/plain": [
              "     label  ... Prediction\n",
              "33       4  ...          0\n",
              "37       4  ...          0\n",
              "83       4  ...          1\n",
              "115      4  ...          1\n",
              "123      4  ...          0\n",
              "338      4  ...          2\n",
              "408      4  ...          0\n",
              "413      4  ...          0\n",
              "444      4  ...          1\n",
              "456      4  ...          0\n",
              "\n",
              "[10 rows x 3 columns]"
            ]
          },
          "metadata": {},
          "execution_count": 42
        }
      ],
      "source": [
        "test_data.head(10)"
      ]
    },
    {
      "cell_type": "code",
      "execution_count": null,
      "metadata": {
        "id": "j1obB7mpvyS0"
      },
      "outputs": [],
      "source": [
        "import matplotlib\n",
        "import matplotlib.pyplot as plt\n",
        "from matplotlib import rcParams\n",
        "rcParams['figure.figsize'] = 15, 8\n",
        "#myfsize = 17\n",
        "\n",
        "\n",
        "discouraging_colour= \"#fc7d0b\"\n",
        "neutral_colour = \"#86B049\"\n",
        "promotional_colour = \"#1170aa\"\n",
        "\n",
        "colours_3 = [promotional_colour,neutral_colour,discouraging_colour]\n",
        "\n",
        "stance_colours_3 = np.array([promotional_colour,\n",
        "                             neutral_colour,\n",
        "                             discouraging_colour,\n",
        "                            ])\n",
        "cmap_stance = matplotlib.colors.LinearSegmentedColormap.from_list(\"\", stance_colours_3 )\n"
      ]
    },
    {
      "cell_type": "code",
      "execution_count": null,
      "metadata": {
        "id": "WCwPWD8pwH7h",
        "colab": {
          "base_uri": "https://localhost:8080/",
          "height": 378
        },
        "outputId": "68218569-bbc0-417a-c429-5a712a98b69b"
      },
      "outputs": [
        {
          "output_type": "error",
          "ename": "KeyError",
          "evalue": "ignored",
          "traceback": [
            "\u001b[0;31m---------------------------------------------------------------------------\u001b[0m",
            "\u001b[0;31mKeyError\u001b[0m                                  Traceback (most recent call last)",
            "\u001b[0;32m<ipython-input-44-fcd1acd421ea>\u001b[0m in \u001b[0;36m<module>\u001b[0;34m()\u001b[0m\n\u001b[0;32m----> 1\u001b[0;31m \u001b[0mgrouped_df\u001b[0m \u001b[0;34m=\u001b[0m \u001b[0mtest_data\u001b[0m\u001b[0;34m.\u001b[0m\u001b[0mgroupby\u001b[0m\u001b[0;34m(\u001b[0m\u001b[0;34m[\u001b[0m\u001b[0;34m'month'\u001b[0m\u001b[0;34m,\u001b[0m \u001b[0;34m'label'\u001b[0m\u001b[0;34m]\u001b[0m\u001b[0;34m)\u001b[0m\u001b[0;34m.\u001b[0m\u001b[0msize\u001b[0m\u001b[0;34m(\u001b[0m\u001b[0;34m)\u001b[0m\u001b[0;34m.\u001b[0m\u001b[0mreset_index\u001b[0m\u001b[0;34m(\u001b[0m\u001b[0mname\u001b[0m\u001b[0;34m=\u001b[0m\u001b[0;34m\"Count\"\u001b[0m\u001b[0;34m)\u001b[0m\u001b[0;34m\u001b[0m\u001b[0;34m\u001b[0m\u001b[0m\n\u001b[0m\u001b[1;32m      2\u001b[0m \u001b[0msub_df\u001b[0m \u001b[0;34m=\u001b[0m \u001b[0mgrouped_df\u001b[0m\u001b[0;34m.\u001b[0m\u001b[0mgroupby\u001b[0m\u001b[0;34m(\u001b[0m\u001b[0;34m[\u001b[0m\u001b[0;34m'month'\u001b[0m\u001b[0;34m,\u001b[0m\u001b[0;34m'label'\u001b[0m\u001b[0;34m]\u001b[0m\u001b[0;34m)\u001b[0m\u001b[0;34m[\u001b[0m\u001b[0;34m'Count'\u001b[0m\u001b[0;34m]\u001b[0m\u001b[0;34m.\u001b[0m\u001b[0msum\u001b[0m\u001b[0;34m(\u001b[0m\u001b[0;34m)\u001b[0m\u001b[0;34m.\u001b[0m\u001b[0munstack\u001b[0m\u001b[0;34m(\u001b[0m\u001b[0;34m)\u001b[0m\u001b[0;34m\u001b[0m\u001b[0;34m\u001b[0m\u001b[0m\n\u001b[1;32m      3\u001b[0m \u001b[0;34m\u001b[0m\u001b[0m\n\u001b[1;32m      4\u001b[0m \u001b[0msub_df\u001b[0m\u001b[0;34m.\u001b[0m\u001b[0mcolumns\u001b[0m \u001b[0;34m=\u001b[0m \u001b[0;34m(\u001b[0m\u001b[0;34m\"promotional\"\u001b[0m\u001b[0;34m,\u001b[0m \u001b[0;34m\"neutral\"\u001b[0m\u001b[0;34m,\u001b[0m \u001b[0;34m\"discouraging\"\u001b[0m\u001b[0;34m)\u001b[0m\u001b[0;34m\u001b[0m\u001b[0;34m\u001b[0m\u001b[0m\n",
            "\u001b[0;32m/usr/local/lib/python3.7/dist-packages/pandas/core/frame.py\u001b[0m in \u001b[0;36mgroupby\u001b[0;34m(self, by, axis, level, as_index, sort, group_keys, squeeze, observed, dropna)\u001b[0m\n\u001b[1;32m   7639\u001b[0m             \u001b[0msqueeze\u001b[0m\u001b[0;34m=\u001b[0m\u001b[0msqueeze\u001b[0m\u001b[0;34m,\u001b[0m  \u001b[0;31m# type: ignore[arg-type]\u001b[0m\u001b[0;34m\u001b[0m\u001b[0;34m\u001b[0m\u001b[0m\n\u001b[1;32m   7640\u001b[0m             \u001b[0mobserved\u001b[0m\u001b[0;34m=\u001b[0m\u001b[0mobserved\u001b[0m\u001b[0;34m,\u001b[0m\u001b[0;34m\u001b[0m\u001b[0;34m\u001b[0m\u001b[0m\n\u001b[0;32m-> 7641\u001b[0;31m             \u001b[0mdropna\u001b[0m\u001b[0;34m=\u001b[0m\u001b[0mdropna\u001b[0m\u001b[0;34m,\u001b[0m\u001b[0;34m\u001b[0m\u001b[0;34m\u001b[0m\u001b[0m\n\u001b[0m\u001b[1;32m   7642\u001b[0m         )\n\u001b[1;32m   7643\u001b[0m \u001b[0;34m\u001b[0m\u001b[0m\n",
            "\u001b[0;32m/usr/local/lib/python3.7/dist-packages/pandas/core/groupby/groupby.py\u001b[0m in \u001b[0;36m__init__\u001b[0;34m(self, obj, keys, axis, level, grouper, exclusions, selection, as_index, sort, group_keys, squeeze, observed, mutated, dropna)\u001b[0m\n\u001b[1;32m    895\u001b[0m                 \u001b[0mobserved\u001b[0m\u001b[0;34m=\u001b[0m\u001b[0mobserved\u001b[0m\u001b[0;34m,\u001b[0m\u001b[0;34m\u001b[0m\u001b[0;34m\u001b[0m\u001b[0m\n\u001b[1;32m    896\u001b[0m                 \u001b[0mmutated\u001b[0m\u001b[0;34m=\u001b[0m\u001b[0mself\u001b[0m\u001b[0;34m.\u001b[0m\u001b[0mmutated\u001b[0m\u001b[0;34m,\u001b[0m\u001b[0;34m\u001b[0m\u001b[0;34m\u001b[0m\u001b[0m\n\u001b[0;32m--> 897\u001b[0;31m                 \u001b[0mdropna\u001b[0m\u001b[0;34m=\u001b[0m\u001b[0mself\u001b[0m\u001b[0;34m.\u001b[0m\u001b[0mdropna\u001b[0m\u001b[0;34m,\u001b[0m\u001b[0;34m\u001b[0m\u001b[0;34m\u001b[0m\u001b[0m\n\u001b[0m\u001b[1;32m    898\u001b[0m             )\n\u001b[1;32m    899\u001b[0m \u001b[0;34m\u001b[0m\u001b[0m\n",
            "\u001b[0;32m/usr/local/lib/python3.7/dist-packages/pandas/core/groupby/grouper.py\u001b[0m in \u001b[0;36mget_grouper\u001b[0;34m(obj, key, axis, level, sort, observed, mutated, validate, dropna)\u001b[0m\n\u001b[1;32m    860\u001b[0m                 \u001b[0min_axis\u001b[0m\u001b[0;34m,\u001b[0m \u001b[0mlevel\u001b[0m\u001b[0;34m,\u001b[0m \u001b[0mgpr\u001b[0m \u001b[0;34m=\u001b[0m \u001b[0;32mFalse\u001b[0m\u001b[0;34m,\u001b[0m \u001b[0mgpr\u001b[0m\u001b[0;34m,\u001b[0m \u001b[0;32mNone\u001b[0m\u001b[0;34m\u001b[0m\u001b[0;34m\u001b[0m\u001b[0m\n\u001b[1;32m    861\u001b[0m             \u001b[0;32melse\u001b[0m\u001b[0;34m:\u001b[0m\u001b[0;34m\u001b[0m\u001b[0;34m\u001b[0m\u001b[0m\n\u001b[0;32m--> 862\u001b[0;31m                 \u001b[0;32mraise\u001b[0m \u001b[0mKeyError\u001b[0m\u001b[0;34m(\u001b[0m\u001b[0mgpr\u001b[0m\u001b[0;34m)\u001b[0m\u001b[0;34m\u001b[0m\u001b[0;34m\u001b[0m\u001b[0m\n\u001b[0m\u001b[1;32m    863\u001b[0m         \u001b[0;32melif\u001b[0m \u001b[0misinstance\u001b[0m\u001b[0;34m(\u001b[0m\u001b[0mgpr\u001b[0m\u001b[0;34m,\u001b[0m \u001b[0mGrouper\u001b[0m\u001b[0;34m)\u001b[0m \u001b[0;32mand\u001b[0m \u001b[0mgpr\u001b[0m\u001b[0;34m.\u001b[0m\u001b[0mkey\u001b[0m \u001b[0;32mis\u001b[0m \u001b[0;32mnot\u001b[0m \u001b[0;32mNone\u001b[0m\u001b[0;34m:\u001b[0m\u001b[0;34m\u001b[0m\u001b[0;34m\u001b[0m\u001b[0m\n\u001b[1;32m    864\u001b[0m             \u001b[0;31m# Add key to exclusions\u001b[0m\u001b[0;34m\u001b[0m\u001b[0;34m\u001b[0m\u001b[0;34m\u001b[0m\u001b[0m\n",
            "\u001b[0;31mKeyError\u001b[0m: 'month'"
          ]
        }
      ],
      "source": [
        "grouped_df = test_data.groupby(['month', 'label']).size().reset_index(name=\"Count\")\n",
        "sub_df = grouped_df.groupby(['month','label'])['Count'].sum().unstack()\n",
        "\n",
        "sub_df.columns = (\"promotional\", \"neutral\", \"discouraging\")"
      ]
    },
    {
      "cell_type": "code",
      "execution_count": null,
      "metadata": {
        "id": "zyjbv8hYvu-3"
      },
      "outputs": [],
      "source": [
        "#plt.style.use('ggplot')\n",
        "sns.set_theme(style=\"white\", palette=None)\n",
        "\n",
        "p = sub_df.plot(kind='bar', stacked=True, cmap=cmap_stance )\n",
        "\n",
        "p.set_xticklabels(('Feb', 'Mar', 'Apr', 'May','Jun', 'Jul','Aug', 'Sep'))\n",
        "p.tick_params(labelsize=myfsize)\n",
        "\n",
        "p.set_title('EU_JAV: Stance Tweet Count After Cleaning: Feb - Sept 2021',fontsize=myfsize)\n",
        "\n",
        "p.set_xlabel(\"Month 2021\",fontsize=myfsize, labelpad=20)\n",
        "p.set_ylabel(\"Number of Tweets\",fontsize=myfsize)\n",
        "p.legend(fontsize='x-large')\n",
        "\n",
        "fig = p.get_figure()"
      ]
    },
    {
      "cell_type": "code",
      "execution_count": null,
      "metadata": {
        "id": "7TA45KRC-Tzr"
      },
      "outputs": [],
      "source": [
        "sub_df_percent = sub_df.copy()\n",
        "sub_df_percent['total'] = sub_df_percent.promotional + sub_df_percent.neutral + sub_df_percent.discouraging\n",
        "sub_df_percent['promotional']= sub_df_percent['promotional']/sub_df_percent['total']\n",
        "sub_df_percent['neutral']= sub_df_percent['neutral']/sub_df_percent['total']\n",
        "sub_df_percent['discouraging']= sub_df_percent['discouraging']/sub_df_percent['total']\n",
        "sub_df_percent.drop('total', axis=1, inplace=True)"
      ]
    },
    {
      "cell_type": "code",
      "execution_count": null,
      "metadata": {
        "id": "ILXSsZ2xCvOS"
      },
      "outputs": [],
      "source": [
        "sub_df_percent"
      ]
    },
    {
      "cell_type": "code",
      "execution_count": null,
      "metadata": {
        "id": "g1ZgrzAX-XKm"
      },
      "outputs": [],
      "source": [
        "p = sub_df_percent.plot(kind='bar', stacked=True, cmap=cmap_stance)\n",
        "\n",
        "p.set_xticklabels(('Feb', 'Mar', 'Apr', 'May','Jun', 'Jul','Aug', 'Sep'))\n",
        "p.tick_params(labelsize=myfsize)\n",
        "\n",
        "p.set_title('EU_JAV: Stance Tweet Count After Cleaning: Feb - Sept 2021',fontsize=myfsize)\n",
        "\n",
        "p.set_xlabel(\"Month\",fontsize=myfsize, labelpad=20)\n",
        "p.set_ylabel(\"Normalised Number of Monthly Tweets\",fontsize=myfsize)\n",
        "p.legend(fontsize='x-large')\n",
        "\n",
        "\n",
        "fig = p.get_figure()"
      ]
    },
    {
      "cell_type": "code",
      "execution_count": null,
      "metadata": {
        "id": "EwFnp1E5xPLY"
      },
      "outputs": [],
      "source": [
        "grouped_df_2 = test_data.groupby(['month', 'Prediction']).size().reset_index(name=\"Count\")\n",
        "sub_df_2 = grouped_df_2.groupby(['month','Prediction'])['Count'].sum().unstack()\n",
        "\n",
        "sub_df_2.columns = (\"promotional\", \"neutral\", \"discouraging\")"
      ]
    },
    {
      "cell_type": "code",
      "execution_count": null,
      "metadata": {
        "id": "u6ulfCbuxkx7"
      },
      "outputs": [],
      "source": [
        "p_2 = sub_df_2.plot(kind='bar', stacked=True, cmap=cmap_stance )\n",
        "\n",
        "p_2.set_xticklabels(('Feb', 'Mar', 'Apr', 'May','Jun', 'Jul','Aug', 'Sep'))\n",
        "p_2.tick_params(labelsize=myfsize)\n",
        "\n",
        "p_2.set_title('EU_JAV: Stance Prediction: Feb - Sept 2021',fontsize=myfsize)\n",
        "\n",
        "p_2.set_xlabel(\"Month\",fontsize=myfsize, labelpad=20)\n",
        "p_2.set_ylabel(\"Number of Tweets\",fontsize=myfsize)\n",
        "p_2.legend(fontsize='x-large')\n",
        "\n",
        "#fig = p.get_figure()\n",
        "fig = p_2.get_figure()"
      ]
    },
    {
      "cell_type": "code",
      "execution_count": null,
      "metadata": {
        "id": "zwxHTqWT-gUs"
      },
      "outputs": [],
      "source": [
        "sub_df_2_percent = sub_df_2.copy()\n",
        "sub_df_2_percent['total'] = sub_df_2_percent.promotional + sub_df_2_percent.neutral + sub_df_2_percent.discouraging\n",
        "sub_df_2_percent['promotional']= sub_df_2_percent['promotional']/sub_df_2_percent['total']\n",
        "sub_df_2_percent['neutral']= sub_df_2_percent['neutral']/sub_df_2_percent['total']\n",
        "sub_df_2_percent['discouraging']= sub_df_2_percent['discouraging']/sub_df_2_percent['total']\n",
        "sub_df_2_percent.drop('total', axis=1, inplace=True)"
      ]
    },
    {
      "cell_type": "code",
      "execution_count": null,
      "metadata": {
        "id": "wPdZiGXPETZ_"
      },
      "outputs": [],
      "source": [
        "sub_df_2_percent"
      ]
    },
    {
      "cell_type": "code",
      "execution_count": null,
      "metadata": {
        "id": "6Go2QVP0CTdK"
      },
      "outputs": [],
      "source": [
        "p2 = sub_df_2_percent.plot(kind='bar', stacked=True, cmap=cmap_stance)\n",
        "\n",
        "p2.set_xticklabels(('Feb', 'Mar', 'Apr', 'May','Jun', 'Jul','Aug', 'Sep'))\n",
        "p2.tick_params(labelsize=myfsize)\n",
        "\n",
        "p2.set_title('EU_JAV: Stance Prediction: Feb - Sept 2021',fontsize=myfsize)\n",
        "\n",
        "p2.set_xlabel(\"Month\",fontsize=myfsize, labelpad=20)\n",
        "p2.set_ylabel(\"Normalised Number of Monthly Tweets\",fontsize=myfsize)\n",
        "p2.legend(fontsize='x-large')\n",
        "\n",
        "\n",
        "fig = p2.get_figure()"
      ]
    },
    {
      "cell_type": "code",
      "execution_count": null,
      "metadata": {
        "id": "TY8nld_IGpjy"
      },
      "outputs": [],
      "source": [
        "fig = p.get_figure()"
      ]
    },
    {
      "cell_type": "code",
      "execution_count": null,
      "metadata": {
        "id": "qCErDet423oq"
      },
      "outputs": [],
      "source": [
        "sub_df"
      ]
    },
    {
      "cell_type": "code",
      "execution_count": null,
      "metadata": {
        "id": "6mce-2tU4nZW"
      },
      "outputs": [],
      "source": [
        "sub_df.columns"
      ]
    },
    {
      "cell_type": "code",
      "execution_count": null,
      "metadata": {
        "id": "Zx5teVyv4akD"
      },
      "outputs": [],
      "source": [
        "sub_df_2"
      ]
    },
    {
      "cell_type": "code",
      "execution_count": null,
      "metadata": {
        "id": "zsvhozqD2ryH"
      },
      "outputs": [],
      "source": [
        "fig, ax = plt.subplots()\n",
        "\n",
        "#ax.plot(sub_df)\n",
        "#sub_df_2.plot(ax=ax)\n",
        "\n",
        "\n",
        "ax.plot(sub_df)\n",
        "sub_df_2.plot(ax=ax)\n",
        "\n",
        "\n",
        "plt.show()"
      ]
    },
    {
      "cell_type": "code",
      "execution_count": null,
      "metadata": {
        "id": "k8n9oYbd7XcZ"
      },
      "outputs": [],
      "source": [
        "fig, ax = plt.subplots()\n",
        "\n",
        "ax.plot(sub_df, linewidth=4)\n",
        "ax.plot(sub_df_2, linewidth=2, linestyle='dashed')\n",
        "\n",
        "plt.show()"
      ]
    },
    {
      "cell_type": "code",
      "execution_count": null,
      "metadata": {
        "id": "csk84HFJ_mPR"
      },
      "outputs": [],
      "source": [
        "\n",
        "ax = sub_df.plot(kind='bar', cmap=cmap_stance )\n",
        "sub_df_2.plot(ax= ax, kind='line', cmap=cmap_stance )\n",
        "\n",
        "\n",
        "#plt.show()\n"
      ]
    }
  ],
  "metadata": {
    "colab": {
      "provenance": [],
      "include_colab_link": true
    },
    "kernelspec": {
      "display_name": "Python 3",
      "name": "python3"
    },
    "language_info": {
      "name": "python"
    },
    "widgets": {
      "application/vnd.jupyter.widget-state+json": {
        "50f8ec691d4542afa803333f3027dfde": {
          "model_module": "@jupyter-widgets/controls",
          "model_name": "HBoxModel",
          "model_module_version": "1.5.0",
          "state": {
            "_view_name": "HBoxView",
            "_dom_classes": [],
            "_model_name": "HBoxModel",
            "_view_module": "@jupyter-widgets/controls",
            "_model_module_version": "1.5.0",
            "_view_count": null,
            "_view_module_version": "1.5.0",
            "box_style": "",
            "layout": "IPY_MODEL_6c5d511900b34c1dad74029093799c28",
            "_model_module": "@jupyter-widgets/controls",
            "children": [
              "IPY_MODEL_57177b79a6a8475d8faee4ff83f87468",
              "IPY_MODEL_874198ba451d44f89a6aa57240994c20",
              "IPY_MODEL_5881ac3272b44435b9f096e205bd56c7"
            ]
          }
        },
        "6c5d511900b34c1dad74029093799c28": {
          "model_module": "@jupyter-widgets/base",
          "model_name": "LayoutModel",
          "model_module_version": "1.2.0",
          "state": {
            "_view_name": "LayoutView",
            "grid_template_rows": null,
            "right": null,
            "justify_content": null,
            "_view_module": "@jupyter-widgets/base",
            "overflow": null,
            "_model_module_version": "1.2.0",
            "_view_count": null,
            "flex_flow": null,
            "width": null,
            "min_width": null,
            "border": null,
            "align_items": null,
            "bottom": null,
            "_model_module": "@jupyter-widgets/base",
            "top": null,
            "grid_column": null,
            "overflow_y": null,
            "overflow_x": null,
            "grid_auto_flow": null,
            "grid_area": null,
            "grid_template_columns": null,
            "flex": null,
            "_model_name": "LayoutModel",
            "justify_items": null,
            "grid_row": null,
            "max_height": null,
            "align_content": null,
            "visibility": null,
            "align_self": null,
            "height": null,
            "min_height": null,
            "padding": null,
            "grid_auto_rows": null,
            "grid_gap": null,
            "max_width": null,
            "order": null,
            "_view_module_version": "1.2.0",
            "grid_template_areas": null,
            "object_position": null,
            "object_fit": null,
            "grid_auto_columns": null,
            "margin": null,
            "display": null,
            "left": null
          }
        },
        "57177b79a6a8475d8faee4ff83f87468": {
          "model_module": "@jupyter-widgets/controls",
          "model_name": "HTMLModel",
          "model_module_version": "1.5.0",
          "state": {
            "_view_name": "HTMLView",
            "style": "IPY_MODEL_bf173df61eba421a8b4e7e5f32a979ae",
            "_dom_classes": [],
            "description": "",
            "_model_name": "HTMLModel",
            "placeholder": "​",
            "_view_module": "@jupyter-widgets/controls",
            "_model_module_version": "1.5.0",
            "value": "Downloading: 100%",
            "_view_count": null,
            "_view_module_version": "1.5.0",
            "description_tooltip": null,
            "_model_module": "@jupyter-widgets/controls",
            "layout": "IPY_MODEL_a656aa130cc4475cbeea552072fcb41f"
          }
        },
        "874198ba451d44f89a6aa57240994c20": {
          "model_module": "@jupyter-widgets/controls",
          "model_name": "FloatProgressModel",
          "model_module_version": "1.5.0",
          "state": {
            "_view_name": "ProgressView",
            "style": "IPY_MODEL_b2553817075d41689a013ded51801af7",
            "_dom_classes": [],
            "description": "",
            "_model_name": "FloatProgressModel",
            "bar_style": "success",
            "max": 2239738157,
            "_view_module": "@jupyter-widgets/controls",
            "_model_module_version": "1.5.0",
            "value": 2239738157,
            "_view_count": null,
            "_view_module_version": "1.5.0",
            "orientation": "horizontal",
            "min": 0,
            "description_tooltip": null,
            "_model_module": "@jupyter-widgets/controls",
            "layout": "IPY_MODEL_22ede5c91430457aa469fb91bc587bc9"
          }
        },
        "5881ac3272b44435b9f096e205bd56c7": {
          "model_module": "@jupyter-widgets/controls",
          "model_name": "HTMLModel",
          "model_module_version": "1.5.0",
          "state": {
            "_view_name": "HTMLView",
            "style": "IPY_MODEL_86a8865b1df24296a3e15efc01254c1a",
            "_dom_classes": [],
            "description": "",
            "_model_name": "HTMLModel",
            "placeholder": "​",
            "_view_module": "@jupyter-widgets/controls",
            "_model_module_version": "1.5.0",
            "value": " 2.09G/2.09G [01:06&lt;00:00, 25.3MB/s]",
            "_view_count": null,
            "_view_module_version": "1.5.0",
            "description_tooltip": null,
            "_model_module": "@jupyter-widgets/controls",
            "layout": "IPY_MODEL_62b1c1ca83124d6f9cb8328d97503800"
          }
        },
        "bf173df61eba421a8b4e7e5f32a979ae": {
          "model_module": "@jupyter-widgets/controls",
          "model_name": "DescriptionStyleModel",
          "model_module_version": "1.5.0",
          "state": {
            "_view_name": "StyleView",
            "_model_name": "DescriptionStyleModel",
            "description_width": "",
            "_view_module": "@jupyter-widgets/base",
            "_model_module_version": "1.5.0",
            "_view_count": null,
            "_view_module_version": "1.2.0",
            "_model_module": "@jupyter-widgets/controls"
          }
        },
        "a656aa130cc4475cbeea552072fcb41f": {
          "model_module": "@jupyter-widgets/base",
          "model_name": "LayoutModel",
          "model_module_version": "1.2.0",
          "state": {
            "_view_name": "LayoutView",
            "grid_template_rows": null,
            "right": null,
            "justify_content": null,
            "_view_module": "@jupyter-widgets/base",
            "overflow": null,
            "_model_module_version": "1.2.0",
            "_view_count": null,
            "flex_flow": null,
            "width": null,
            "min_width": null,
            "border": null,
            "align_items": null,
            "bottom": null,
            "_model_module": "@jupyter-widgets/base",
            "top": null,
            "grid_column": null,
            "overflow_y": null,
            "overflow_x": null,
            "grid_auto_flow": null,
            "grid_area": null,
            "grid_template_columns": null,
            "flex": null,
            "_model_name": "LayoutModel",
            "justify_items": null,
            "grid_row": null,
            "max_height": null,
            "align_content": null,
            "visibility": null,
            "align_self": null,
            "height": null,
            "min_height": null,
            "padding": null,
            "grid_auto_rows": null,
            "grid_gap": null,
            "max_width": null,
            "order": null,
            "_view_module_version": "1.2.0",
            "grid_template_areas": null,
            "object_position": null,
            "object_fit": null,
            "grid_auto_columns": null,
            "margin": null,
            "display": null,
            "left": null
          }
        },
        "b2553817075d41689a013ded51801af7": {
          "model_module": "@jupyter-widgets/controls",
          "model_name": "ProgressStyleModel",
          "model_module_version": "1.5.0",
          "state": {
            "_view_name": "StyleView",
            "_model_name": "ProgressStyleModel",
            "description_width": "",
            "_view_module": "@jupyter-widgets/base",
            "_model_module_version": "1.5.0",
            "_view_count": null,
            "_view_module_version": "1.2.0",
            "bar_color": null,
            "_model_module": "@jupyter-widgets/controls"
          }
        },
        "22ede5c91430457aa469fb91bc587bc9": {
          "model_module": "@jupyter-widgets/base",
          "model_name": "LayoutModel",
          "model_module_version": "1.2.0",
          "state": {
            "_view_name": "LayoutView",
            "grid_template_rows": null,
            "right": null,
            "justify_content": null,
            "_view_module": "@jupyter-widgets/base",
            "overflow": null,
            "_model_module_version": "1.2.0",
            "_view_count": null,
            "flex_flow": null,
            "width": null,
            "min_width": null,
            "border": null,
            "align_items": null,
            "bottom": null,
            "_model_module": "@jupyter-widgets/base",
            "top": null,
            "grid_column": null,
            "overflow_y": null,
            "overflow_x": null,
            "grid_auto_flow": null,
            "grid_area": null,
            "grid_template_columns": null,
            "flex": null,
            "_model_name": "LayoutModel",
            "justify_items": null,
            "grid_row": null,
            "max_height": null,
            "align_content": null,
            "visibility": null,
            "align_self": null,
            "height": null,
            "min_height": null,
            "padding": null,
            "grid_auto_rows": null,
            "grid_gap": null,
            "max_width": null,
            "order": null,
            "_view_module_version": "1.2.0",
            "grid_template_areas": null,
            "object_position": null,
            "object_fit": null,
            "grid_auto_columns": null,
            "margin": null,
            "display": null,
            "left": null
          }
        },
        "86a8865b1df24296a3e15efc01254c1a": {
          "model_module": "@jupyter-widgets/controls",
          "model_name": "DescriptionStyleModel",
          "model_module_version": "1.5.0",
          "state": {
            "_view_name": "StyleView",
            "_model_name": "DescriptionStyleModel",
            "description_width": "",
            "_view_module": "@jupyter-widgets/base",
            "_model_module_version": "1.5.0",
            "_view_count": null,
            "_view_module_version": "1.2.0",
            "_model_module": "@jupyter-widgets/controls"
          }
        },
        "62b1c1ca83124d6f9cb8328d97503800": {
          "model_module": "@jupyter-widgets/base",
          "model_name": "LayoutModel",
          "model_module_version": "1.2.0",
          "state": {
            "_view_name": "LayoutView",
            "grid_template_rows": null,
            "right": null,
            "justify_content": null,
            "_view_module": "@jupyter-widgets/base",
            "overflow": null,
            "_model_module_version": "1.2.0",
            "_view_count": null,
            "flex_flow": null,
            "width": null,
            "min_width": null,
            "border": null,
            "align_items": null,
            "bottom": null,
            "_model_module": "@jupyter-widgets/base",
            "top": null,
            "grid_column": null,
            "overflow_y": null,
            "overflow_x": null,
            "grid_auto_flow": null,
            "grid_area": null,
            "grid_template_columns": null,
            "flex": null,
            "_model_name": "LayoutModel",
            "justify_items": null,
            "grid_row": null,
            "max_height": null,
            "align_content": null,
            "visibility": null,
            "align_self": null,
            "height": null,
            "min_height": null,
            "padding": null,
            "grid_auto_rows": null,
            "grid_gap": null,
            "max_width": null,
            "order": null,
            "_view_module_version": "1.2.0",
            "grid_template_areas": null,
            "object_position": null,
            "object_fit": null,
            "grid_auto_columns": null,
            "margin": null,
            "display": null,
            "left": null
          }
        },
        "f67a031ba1a142fbb6b16c0663929107": {
          "model_module": "@jupyter-widgets/controls",
          "model_name": "HBoxModel",
          "model_module_version": "1.5.0",
          "state": {
            "_view_name": "HBoxView",
            "_dom_classes": [],
            "_model_name": "HBoxModel",
            "_view_module": "@jupyter-widgets/controls",
            "_model_module_version": "1.5.0",
            "_view_count": null,
            "_view_module_version": "1.5.0",
            "box_style": "",
            "layout": "IPY_MODEL_50b8eb665aa44d4a97d9925f2b6d8806",
            "_model_module": "@jupyter-widgets/controls",
            "children": [
              "IPY_MODEL_67e4c7ac45504febbdb4ecffd1caa3a6",
              "IPY_MODEL_b8c98113952c4312b1f71ae6f2b26284",
              "IPY_MODEL_fc453250348f49a7952be5394a17d9a5"
            ]
          }
        },
        "50b8eb665aa44d4a97d9925f2b6d8806": {
          "model_module": "@jupyter-widgets/base",
          "model_name": "LayoutModel",
          "model_module_version": "1.2.0",
          "state": {
            "_view_name": "LayoutView",
            "grid_template_rows": null,
            "right": null,
            "justify_content": null,
            "_view_module": "@jupyter-widgets/base",
            "overflow": null,
            "_model_module_version": "1.2.0",
            "_view_count": null,
            "flex_flow": null,
            "width": null,
            "min_width": null,
            "border": null,
            "align_items": null,
            "bottom": null,
            "_model_module": "@jupyter-widgets/base",
            "top": null,
            "grid_column": null,
            "overflow_y": null,
            "overflow_x": null,
            "grid_auto_flow": null,
            "grid_area": null,
            "grid_template_columns": null,
            "flex": null,
            "_model_name": "LayoutModel",
            "justify_items": null,
            "grid_row": null,
            "max_height": null,
            "align_content": null,
            "visibility": null,
            "align_self": null,
            "height": null,
            "min_height": null,
            "padding": null,
            "grid_auto_rows": null,
            "grid_gap": null,
            "max_width": null,
            "order": null,
            "_view_module_version": "1.2.0",
            "grid_template_areas": null,
            "object_position": null,
            "object_fit": null,
            "grid_auto_columns": null,
            "margin": null,
            "display": null,
            "left": null
          }
        },
        "67e4c7ac45504febbdb4ecffd1caa3a6": {
          "model_module": "@jupyter-widgets/controls",
          "model_name": "HTMLModel",
          "model_module_version": "1.5.0",
          "state": {
            "_view_name": "HTMLView",
            "style": "IPY_MODEL_81b2a03e374a4a0e8b2750bc4b54dc2d",
            "_dom_classes": [],
            "description": "",
            "_model_name": "HTMLModel",
            "placeholder": "​",
            "_view_module": "@jupyter-widgets/controls",
            "_model_module_version": "1.5.0",
            "value": "Downloading: 100%",
            "_view_count": null,
            "_view_module_version": "1.5.0",
            "description_tooltip": null,
            "_model_module": "@jupyter-widgets/controls",
            "layout": "IPY_MODEL_ed83d66df46647439011194e1ae6cf1c"
          }
        },
        "b8c98113952c4312b1f71ae6f2b26284": {
          "model_module": "@jupyter-widgets/controls",
          "model_name": "FloatProgressModel",
          "model_module_version": "1.5.0",
          "state": {
            "_view_name": "ProgressView",
            "style": "IPY_MODEL_e69bd881c4df40309398c85e5ec64e9f",
            "_dom_classes": [],
            "description": "",
            "_model_name": "FloatProgressModel",
            "bar_style": "success",
            "max": 611,
            "_view_module": "@jupyter-widgets/controls",
            "_model_module_version": "1.5.0",
            "value": 611,
            "_view_count": null,
            "_view_module_version": "1.5.0",
            "orientation": "horizontal",
            "min": 0,
            "description_tooltip": null,
            "_model_module": "@jupyter-widgets/controls",
            "layout": "IPY_MODEL_3572520a5cb240f593c8a60fbb8d8043"
          }
        },
        "fc453250348f49a7952be5394a17d9a5": {
          "model_module": "@jupyter-widgets/controls",
          "model_name": "HTMLModel",
          "model_module_version": "1.5.0",
          "state": {
            "_view_name": "HTMLView",
            "style": "IPY_MODEL_2dbb8ce101c8409099fc0e34d2c5be07",
            "_dom_classes": [],
            "description": "",
            "_model_name": "HTMLModel",
            "placeholder": "​",
            "_view_module": "@jupyter-widgets/controls",
            "_model_module_version": "1.5.0",
            "value": " 611/611 [00:00&lt;00:00, 12.0kB/s]",
            "_view_count": null,
            "_view_module_version": "1.5.0",
            "description_tooltip": null,
            "_model_module": "@jupyter-widgets/controls",
            "layout": "IPY_MODEL_b1190324395b4f6eb85dbe3f1e25e40f"
          }
        },
        "81b2a03e374a4a0e8b2750bc4b54dc2d": {
          "model_module": "@jupyter-widgets/controls",
          "model_name": "DescriptionStyleModel",
          "model_module_version": "1.5.0",
          "state": {
            "_view_name": "StyleView",
            "_model_name": "DescriptionStyleModel",
            "description_width": "",
            "_view_module": "@jupyter-widgets/base",
            "_model_module_version": "1.5.0",
            "_view_count": null,
            "_view_module_version": "1.2.0",
            "_model_module": "@jupyter-widgets/controls"
          }
        },
        "ed83d66df46647439011194e1ae6cf1c": {
          "model_module": "@jupyter-widgets/base",
          "model_name": "LayoutModel",
          "model_module_version": "1.2.0",
          "state": {
            "_view_name": "LayoutView",
            "grid_template_rows": null,
            "right": null,
            "justify_content": null,
            "_view_module": "@jupyter-widgets/base",
            "overflow": null,
            "_model_module_version": "1.2.0",
            "_view_count": null,
            "flex_flow": null,
            "width": null,
            "min_width": null,
            "border": null,
            "align_items": null,
            "bottom": null,
            "_model_module": "@jupyter-widgets/base",
            "top": null,
            "grid_column": null,
            "overflow_y": null,
            "overflow_x": null,
            "grid_auto_flow": null,
            "grid_area": null,
            "grid_template_columns": null,
            "flex": null,
            "_model_name": "LayoutModel",
            "justify_items": null,
            "grid_row": null,
            "max_height": null,
            "align_content": null,
            "visibility": null,
            "align_self": null,
            "height": null,
            "min_height": null,
            "padding": null,
            "grid_auto_rows": null,
            "grid_gap": null,
            "max_width": null,
            "order": null,
            "_view_module_version": "1.2.0",
            "grid_template_areas": null,
            "object_position": null,
            "object_fit": null,
            "grid_auto_columns": null,
            "margin": null,
            "display": null,
            "left": null
          }
        },
        "e69bd881c4df40309398c85e5ec64e9f": {
          "model_module": "@jupyter-widgets/controls",
          "model_name": "ProgressStyleModel",
          "model_module_version": "1.5.0",
          "state": {
            "_view_name": "StyleView",
            "_model_name": "ProgressStyleModel",
            "description_width": "",
            "_view_module": "@jupyter-widgets/base",
            "_model_module_version": "1.5.0",
            "_view_count": null,
            "_view_module_version": "1.2.0",
            "bar_color": null,
            "_model_module": "@jupyter-widgets/controls"
          }
        },
        "3572520a5cb240f593c8a60fbb8d8043": {
          "model_module": "@jupyter-widgets/base",
          "model_name": "LayoutModel",
          "model_module_version": "1.2.0",
          "state": {
            "_view_name": "LayoutView",
            "grid_template_rows": null,
            "right": null,
            "justify_content": null,
            "_view_module": "@jupyter-widgets/base",
            "overflow": null,
            "_model_module_version": "1.2.0",
            "_view_count": null,
            "flex_flow": null,
            "width": null,
            "min_width": null,
            "border": null,
            "align_items": null,
            "bottom": null,
            "_model_module": "@jupyter-widgets/base",
            "top": null,
            "grid_column": null,
            "overflow_y": null,
            "overflow_x": null,
            "grid_auto_flow": null,
            "grid_area": null,
            "grid_template_columns": null,
            "flex": null,
            "_model_name": "LayoutModel",
            "justify_items": null,
            "grid_row": null,
            "max_height": null,
            "align_content": null,
            "visibility": null,
            "align_self": null,
            "height": null,
            "min_height": null,
            "padding": null,
            "grid_auto_rows": null,
            "grid_gap": null,
            "max_width": null,
            "order": null,
            "_view_module_version": "1.2.0",
            "grid_template_areas": null,
            "object_position": null,
            "object_fit": null,
            "grid_auto_columns": null,
            "margin": null,
            "display": null,
            "left": null
          }
        },
        "2dbb8ce101c8409099fc0e34d2c5be07": {
          "model_module": "@jupyter-widgets/controls",
          "model_name": "DescriptionStyleModel",
          "model_module_version": "1.5.0",
          "state": {
            "_view_name": "StyleView",
            "_model_name": "DescriptionStyleModel",
            "description_width": "",
            "_view_module": "@jupyter-widgets/base",
            "_model_module_version": "1.5.0",
            "_view_count": null,
            "_view_module_version": "1.2.0",
            "_model_module": "@jupyter-widgets/controls"
          }
        },
        "b1190324395b4f6eb85dbe3f1e25e40f": {
          "model_module": "@jupyter-widgets/base",
          "model_name": "LayoutModel",
          "model_module_version": "1.2.0",
          "state": {
            "_view_name": "LayoutView",
            "grid_template_rows": null,
            "right": null,
            "justify_content": null,
            "_view_module": "@jupyter-widgets/base",
            "overflow": null,
            "_model_module_version": "1.2.0",
            "_view_count": null,
            "flex_flow": null,
            "width": null,
            "min_width": null,
            "border": null,
            "align_items": null,
            "bottom": null,
            "_model_module": "@jupyter-widgets/base",
            "top": null,
            "grid_column": null,
            "overflow_y": null,
            "overflow_x": null,
            "grid_auto_flow": null,
            "grid_area": null,
            "grid_template_columns": null,
            "flex": null,
            "_model_name": "LayoutModel",
            "justify_items": null,
            "grid_row": null,
            "max_height": null,
            "align_content": null,
            "visibility": null,
            "align_self": null,
            "height": null,
            "min_height": null,
            "padding": null,
            "grid_auto_rows": null,
            "grid_gap": null,
            "max_width": null,
            "order": null,
            "_view_module_version": "1.2.0",
            "grid_template_areas": null,
            "object_position": null,
            "object_fit": null,
            "grid_auto_columns": null,
            "margin": null,
            "display": null,
            "left": null
          }
        },
        "c2c1e5a9abfe4983b48d312898ed9c4a": {
          "model_module": "@jupyter-widgets/controls",
          "model_name": "HBoxModel",
          "model_module_version": "1.5.0",
          "state": {
            "_view_name": "HBoxView",
            "_dom_classes": [],
            "_model_name": "HBoxModel",
            "_view_module": "@jupyter-widgets/controls",
            "_model_module_version": "1.5.0",
            "_view_count": null,
            "_view_module_version": "1.5.0",
            "box_style": "",
            "layout": "IPY_MODEL_d33d0f3e97424b4489ce2b41b243981b",
            "_model_module": "@jupyter-widgets/controls",
            "children": [
              "IPY_MODEL_1cda25a4138b4cb997b9d6106d349d7a",
              "IPY_MODEL_700f9319cdfd445c8a5817aa79462945",
              "IPY_MODEL_7f4f941e60f14cf0b57532c129482a55"
            ]
          }
        },
        "d33d0f3e97424b4489ce2b41b243981b": {
          "model_module": "@jupyter-widgets/base",
          "model_name": "LayoutModel",
          "model_module_version": "1.2.0",
          "state": {
            "_view_name": "LayoutView",
            "grid_template_rows": null,
            "right": null,
            "justify_content": null,
            "_view_module": "@jupyter-widgets/base",
            "overflow": null,
            "_model_module_version": "1.2.0",
            "_view_count": null,
            "flex_flow": null,
            "width": null,
            "min_width": null,
            "border": null,
            "align_items": null,
            "bottom": null,
            "_model_module": "@jupyter-widgets/base",
            "top": null,
            "grid_column": null,
            "overflow_y": null,
            "overflow_x": null,
            "grid_auto_flow": null,
            "grid_area": null,
            "grid_template_columns": null,
            "flex": null,
            "_model_name": "LayoutModel",
            "justify_items": null,
            "grid_row": null,
            "max_height": null,
            "align_content": null,
            "visibility": null,
            "align_self": null,
            "height": null,
            "min_height": null,
            "padding": null,
            "grid_auto_rows": null,
            "grid_gap": null,
            "max_width": null,
            "order": null,
            "_view_module_version": "1.2.0",
            "grid_template_areas": null,
            "object_position": null,
            "object_fit": null,
            "grid_auto_columns": null,
            "margin": null,
            "display": null,
            "left": null
          }
        },
        "1cda25a4138b4cb997b9d6106d349d7a": {
          "model_module": "@jupyter-widgets/controls",
          "model_name": "HTMLModel",
          "model_module_version": "1.5.0",
          "state": {
            "_view_name": "HTMLView",
            "style": "IPY_MODEL_2e8a2c13a5d64e6cbf7db3cf3d577b0a",
            "_dom_classes": [],
            "description": "",
            "_model_name": "HTMLModel",
            "placeholder": "​",
            "_view_module": "@jupyter-widgets/controls",
            "_model_module_version": "1.5.0",
            "value": "Downloading: 100%",
            "_view_count": null,
            "_view_module_version": "1.5.0",
            "description_tooltip": null,
            "_model_module": "@jupyter-widgets/controls",
            "layout": "IPY_MODEL_b00e46fb7b4149b8bf81632cdb869429"
          }
        },
        "700f9319cdfd445c8a5817aa79462945": {
          "model_module": "@jupyter-widgets/controls",
          "model_name": "FloatProgressModel",
          "model_module_version": "1.5.0",
          "state": {
            "_view_name": "ProgressView",
            "style": "IPY_MODEL_92c8da759b7a4281bf0806bd950e29ee",
            "_dom_classes": [],
            "description": "",
            "_model_name": "FloatProgressModel",
            "bar_style": "success",
            "max": 5069051,
            "_view_module": "@jupyter-widgets/controls",
            "_model_module_version": "1.5.0",
            "value": 5069051,
            "_view_count": null,
            "_view_module_version": "1.5.0",
            "orientation": "horizontal",
            "min": 0,
            "description_tooltip": null,
            "_model_module": "@jupyter-widgets/controls",
            "layout": "IPY_MODEL_f34fc6959ee84b84baba38e281f280a1"
          }
        },
        "7f4f941e60f14cf0b57532c129482a55": {
          "model_module": "@jupyter-widgets/controls",
          "model_name": "HTMLModel",
          "model_module_version": "1.5.0",
          "state": {
            "_view_name": "HTMLView",
            "style": "IPY_MODEL_b08b3f6fab89402e8b3276e22e57e6ab",
            "_dom_classes": [],
            "description": "",
            "_model_name": "HTMLModel",
            "placeholder": "​",
            "_view_module": "@jupyter-widgets/controls",
            "_model_module_version": "1.5.0",
            "value": " 4.83M/4.83M [00:00&lt;00:00, 10.9MB/s]",
            "_view_count": null,
            "_view_module_version": "1.5.0",
            "description_tooltip": null,
            "_model_module": "@jupyter-widgets/controls",
            "layout": "IPY_MODEL_967e2ae93a574f15b805182f2ed5f8cc"
          }
        },
        "2e8a2c13a5d64e6cbf7db3cf3d577b0a": {
          "model_module": "@jupyter-widgets/controls",
          "model_name": "DescriptionStyleModel",
          "model_module_version": "1.5.0",
          "state": {
            "_view_name": "StyleView",
            "_model_name": "DescriptionStyleModel",
            "description_width": "",
            "_view_module": "@jupyter-widgets/base",
            "_model_module_version": "1.5.0",
            "_view_count": null,
            "_view_module_version": "1.2.0",
            "_model_module": "@jupyter-widgets/controls"
          }
        },
        "b00e46fb7b4149b8bf81632cdb869429": {
          "model_module": "@jupyter-widgets/base",
          "model_name": "LayoutModel",
          "model_module_version": "1.2.0",
          "state": {
            "_view_name": "LayoutView",
            "grid_template_rows": null,
            "right": null,
            "justify_content": null,
            "_view_module": "@jupyter-widgets/base",
            "overflow": null,
            "_model_module_version": "1.2.0",
            "_view_count": null,
            "flex_flow": null,
            "width": null,
            "min_width": null,
            "border": null,
            "align_items": null,
            "bottom": null,
            "_model_module": "@jupyter-widgets/base",
            "top": null,
            "grid_column": null,
            "overflow_y": null,
            "overflow_x": null,
            "grid_auto_flow": null,
            "grid_area": null,
            "grid_template_columns": null,
            "flex": null,
            "_model_name": "LayoutModel",
            "justify_items": null,
            "grid_row": null,
            "max_height": null,
            "align_content": null,
            "visibility": null,
            "align_self": null,
            "height": null,
            "min_height": null,
            "padding": null,
            "grid_auto_rows": null,
            "grid_gap": null,
            "max_width": null,
            "order": null,
            "_view_module_version": "1.2.0",
            "grid_template_areas": null,
            "object_position": null,
            "object_fit": null,
            "grid_auto_columns": null,
            "margin": null,
            "display": null,
            "left": null
          }
        },
        "92c8da759b7a4281bf0806bd950e29ee": {
          "model_module": "@jupyter-widgets/controls",
          "model_name": "ProgressStyleModel",
          "model_module_version": "1.5.0",
          "state": {
            "_view_name": "StyleView",
            "_model_name": "ProgressStyleModel",
            "description_width": "",
            "_view_module": "@jupyter-widgets/base",
            "_model_module_version": "1.5.0",
            "_view_count": null,
            "_view_module_version": "1.2.0",
            "bar_color": null,
            "_model_module": "@jupyter-widgets/controls"
          }
        },
        "f34fc6959ee84b84baba38e281f280a1": {
          "model_module": "@jupyter-widgets/base",
          "model_name": "LayoutModel",
          "model_module_version": "1.2.0",
          "state": {
            "_view_name": "LayoutView",
            "grid_template_rows": null,
            "right": null,
            "justify_content": null,
            "_view_module": "@jupyter-widgets/base",
            "overflow": null,
            "_model_module_version": "1.2.0",
            "_view_count": null,
            "flex_flow": null,
            "width": null,
            "min_width": null,
            "border": null,
            "align_items": null,
            "bottom": null,
            "_model_module": "@jupyter-widgets/base",
            "top": null,
            "grid_column": null,
            "overflow_y": null,
            "overflow_x": null,
            "grid_auto_flow": null,
            "grid_area": null,
            "grid_template_columns": null,
            "flex": null,
            "_model_name": "LayoutModel",
            "justify_items": null,
            "grid_row": null,
            "max_height": null,
            "align_content": null,
            "visibility": null,
            "align_self": null,
            "height": null,
            "min_height": null,
            "padding": null,
            "grid_auto_rows": null,
            "grid_gap": null,
            "max_width": null,
            "order": null,
            "_view_module_version": "1.2.0",
            "grid_template_areas": null,
            "object_position": null,
            "object_fit": null,
            "grid_auto_columns": null,
            "margin": null,
            "display": null,
            "left": null
          }
        },
        "b08b3f6fab89402e8b3276e22e57e6ab": {
          "model_module": "@jupyter-widgets/controls",
          "model_name": "DescriptionStyleModel",
          "model_module_version": "1.5.0",
          "state": {
            "_view_name": "StyleView",
            "_model_name": "DescriptionStyleModel",
            "description_width": "",
            "_view_module": "@jupyter-widgets/base",
            "_model_module_version": "1.5.0",
            "_view_count": null,
            "_view_module_version": "1.2.0",
            "_model_module": "@jupyter-widgets/controls"
          }
        },
        "967e2ae93a574f15b805182f2ed5f8cc": {
          "model_module": "@jupyter-widgets/base",
          "model_name": "LayoutModel",
          "model_module_version": "1.2.0",
          "state": {
            "_view_name": "LayoutView",
            "grid_template_rows": null,
            "right": null,
            "justify_content": null,
            "_view_module": "@jupyter-widgets/base",
            "overflow": null,
            "_model_module_version": "1.2.0",
            "_view_count": null,
            "flex_flow": null,
            "width": null,
            "min_width": null,
            "border": null,
            "align_items": null,
            "bottom": null,
            "_model_module": "@jupyter-widgets/base",
            "top": null,
            "grid_column": null,
            "overflow_y": null,
            "overflow_x": null,
            "grid_auto_flow": null,
            "grid_area": null,
            "grid_template_columns": null,
            "flex": null,
            "_model_name": "LayoutModel",
            "justify_items": null,
            "grid_row": null,
            "max_height": null,
            "align_content": null,
            "visibility": null,
            "align_self": null,
            "height": null,
            "min_height": null,
            "padding": null,
            "grid_auto_rows": null,
            "grid_gap": null,
            "max_width": null,
            "order": null,
            "_view_module_version": "1.2.0",
            "grid_template_areas": null,
            "object_position": null,
            "object_fit": null,
            "grid_auto_columns": null,
            "margin": null,
            "display": null,
            "left": null
          }
        },
        "7f7ab998b79e4dcb978749e64d92fee7": {
          "model_module": "@jupyter-widgets/controls",
          "model_name": "HBoxModel",
          "model_module_version": "1.5.0",
          "state": {
            "_view_name": "HBoxView",
            "_dom_classes": [],
            "_model_name": "HBoxModel",
            "_view_module": "@jupyter-widgets/controls",
            "_model_module_version": "1.5.0",
            "_view_count": null,
            "_view_module_version": "1.5.0",
            "box_style": "",
            "layout": "IPY_MODEL_3be360827b5b4c47a48473d6881c47c2",
            "_model_module": "@jupyter-widgets/controls",
            "children": [
              "IPY_MODEL_4c07612e7f4b43c5ad19715ae3d13b07",
              "IPY_MODEL_3062c9a48ed34cb591a331655cd33fa5",
              "IPY_MODEL_12cbc54c9bdf44f0a0417c835e64476c"
            ]
          }
        },
        "3be360827b5b4c47a48473d6881c47c2": {
          "model_module": "@jupyter-widgets/base",
          "model_name": "LayoutModel",
          "model_module_version": "1.2.0",
          "state": {
            "_view_name": "LayoutView",
            "grid_template_rows": null,
            "right": null,
            "justify_content": null,
            "_view_module": "@jupyter-widgets/base",
            "overflow": null,
            "_model_module_version": "1.2.0",
            "_view_count": null,
            "flex_flow": null,
            "width": null,
            "min_width": null,
            "border": null,
            "align_items": null,
            "bottom": null,
            "_model_module": "@jupyter-widgets/base",
            "top": null,
            "grid_column": null,
            "overflow_y": null,
            "overflow_x": null,
            "grid_auto_flow": null,
            "grid_area": null,
            "grid_template_columns": null,
            "flex": null,
            "_model_name": "LayoutModel",
            "justify_items": null,
            "grid_row": null,
            "max_height": null,
            "align_content": null,
            "visibility": null,
            "align_self": null,
            "height": null,
            "min_height": null,
            "padding": null,
            "grid_auto_rows": null,
            "grid_gap": null,
            "max_width": null,
            "order": null,
            "_view_module_version": "1.2.0",
            "grid_template_areas": null,
            "object_position": null,
            "object_fit": null,
            "grid_auto_columns": null,
            "margin": null,
            "display": null,
            "left": null
          }
        },
        "4c07612e7f4b43c5ad19715ae3d13b07": {
          "model_module": "@jupyter-widgets/controls",
          "model_name": "HTMLModel",
          "model_module_version": "1.5.0",
          "state": {
            "_view_name": "HTMLView",
            "style": "IPY_MODEL_e1b240ab78884f47becaeaf3c10a777f",
            "_dom_classes": [],
            "description": "",
            "_model_name": "HTMLModel",
            "placeholder": "​",
            "_view_module": "@jupyter-widgets/controls",
            "_model_module_version": "1.5.0",
            "value": "Downloading: 100%",
            "_view_count": null,
            "_view_module_version": "1.5.0",
            "description_tooltip": null,
            "_model_module": "@jupyter-widgets/controls",
            "layout": "IPY_MODEL_63cc9d7510a844babbeab069c505f329"
          }
        },
        "3062c9a48ed34cb591a331655cd33fa5": {
          "model_module": "@jupyter-widgets/controls",
          "model_name": "FloatProgressModel",
          "model_module_version": "1.5.0",
          "state": {
            "_view_name": "ProgressView",
            "style": "IPY_MODEL_980d1d80690f4d37bf9a22fc4dcc9692",
            "_dom_classes": [],
            "description": "",
            "_model_name": "FloatProgressModel",
            "bar_style": "success",
            "max": 238,
            "_view_module": "@jupyter-widgets/controls",
            "_model_module_version": "1.5.0",
            "value": 238,
            "_view_count": null,
            "_view_module_version": "1.5.0",
            "orientation": "horizontal",
            "min": 0,
            "description_tooltip": null,
            "_model_module": "@jupyter-widgets/controls",
            "layout": "IPY_MODEL_d6f92d8aae3c4a3fa9860a4b382471aa"
          }
        },
        "12cbc54c9bdf44f0a0417c835e64476c": {
          "model_module": "@jupyter-widgets/controls",
          "model_name": "HTMLModel",
          "model_module_version": "1.5.0",
          "state": {
            "_view_name": "HTMLView",
            "style": "IPY_MODEL_ccd5157f207c496ba8b97c9a2c2b97ba",
            "_dom_classes": [],
            "description": "",
            "_model_name": "HTMLModel",
            "placeholder": "​",
            "_view_module": "@jupyter-widgets/controls",
            "_model_module_version": "1.5.0",
            "value": " 238/238 [00:00&lt;00:00, 6.24kB/s]",
            "_view_count": null,
            "_view_module_version": "1.5.0",
            "description_tooltip": null,
            "_model_module": "@jupyter-widgets/controls",
            "layout": "IPY_MODEL_9c5a57d469a24b6898fdc3449941f42b"
          }
        },
        "e1b240ab78884f47becaeaf3c10a777f": {
          "model_module": "@jupyter-widgets/controls",
          "model_name": "DescriptionStyleModel",
          "model_module_version": "1.5.0",
          "state": {
            "_view_name": "StyleView",
            "_model_name": "DescriptionStyleModel",
            "description_width": "",
            "_view_module": "@jupyter-widgets/base",
            "_model_module_version": "1.5.0",
            "_view_count": null,
            "_view_module_version": "1.2.0",
            "_model_module": "@jupyter-widgets/controls"
          }
        },
        "63cc9d7510a844babbeab069c505f329": {
          "model_module": "@jupyter-widgets/base",
          "model_name": "LayoutModel",
          "model_module_version": "1.2.0",
          "state": {
            "_view_name": "LayoutView",
            "grid_template_rows": null,
            "right": null,
            "justify_content": null,
            "_view_module": "@jupyter-widgets/base",
            "overflow": null,
            "_model_module_version": "1.2.0",
            "_view_count": null,
            "flex_flow": null,
            "width": null,
            "min_width": null,
            "border": null,
            "align_items": null,
            "bottom": null,
            "_model_module": "@jupyter-widgets/base",
            "top": null,
            "grid_column": null,
            "overflow_y": null,
            "overflow_x": null,
            "grid_auto_flow": null,
            "grid_area": null,
            "grid_template_columns": null,
            "flex": null,
            "_model_name": "LayoutModel",
            "justify_items": null,
            "grid_row": null,
            "max_height": null,
            "align_content": null,
            "visibility": null,
            "align_self": null,
            "height": null,
            "min_height": null,
            "padding": null,
            "grid_auto_rows": null,
            "grid_gap": null,
            "max_width": null,
            "order": null,
            "_view_module_version": "1.2.0",
            "grid_template_areas": null,
            "object_position": null,
            "object_fit": null,
            "grid_auto_columns": null,
            "margin": null,
            "display": null,
            "left": null
          }
        },
        "980d1d80690f4d37bf9a22fc4dcc9692": {
          "model_module": "@jupyter-widgets/controls",
          "model_name": "ProgressStyleModel",
          "model_module_version": "1.5.0",
          "state": {
            "_view_name": "StyleView",
            "_model_name": "ProgressStyleModel",
            "description_width": "",
            "_view_module": "@jupyter-widgets/base",
            "_model_module_version": "1.5.0",
            "_view_count": null,
            "_view_module_version": "1.2.0",
            "bar_color": null,
            "_model_module": "@jupyter-widgets/controls"
          }
        },
        "d6f92d8aae3c4a3fa9860a4b382471aa": {
          "model_module": "@jupyter-widgets/base",
          "model_name": "LayoutModel",
          "model_module_version": "1.2.0",
          "state": {
            "_view_name": "LayoutView",
            "grid_template_rows": null,
            "right": null,
            "justify_content": null,
            "_view_module": "@jupyter-widgets/base",
            "overflow": null,
            "_model_module_version": "1.2.0",
            "_view_count": null,
            "flex_flow": null,
            "width": null,
            "min_width": null,
            "border": null,
            "align_items": null,
            "bottom": null,
            "_model_module": "@jupyter-widgets/base",
            "top": null,
            "grid_column": null,
            "overflow_y": null,
            "overflow_x": null,
            "grid_auto_flow": null,
            "grid_area": null,
            "grid_template_columns": null,
            "flex": null,
            "_model_name": "LayoutModel",
            "justify_items": null,
            "grid_row": null,
            "max_height": null,
            "align_content": null,
            "visibility": null,
            "align_self": null,
            "height": null,
            "min_height": null,
            "padding": null,
            "grid_auto_rows": null,
            "grid_gap": null,
            "max_width": null,
            "order": null,
            "_view_module_version": "1.2.0",
            "grid_template_areas": null,
            "object_position": null,
            "object_fit": null,
            "grid_auto_columns": null,
            "margin": null,
            "display": null,
            "left": null
          }
        },
        "ccd5157f207c496ba8b97c9a2c2b97ba": {
          "model_module": "@jupyter-widgets/controls",
          "model_name": "DescriptionStyleModel",
          "model_module_version": "1.5.0",
          "state": {
            "_view_name": "StyleView",
            "_model_name": "DescriptionStyleModel",
            "description_width": "",
            "_view_module": "@jupyter-widgets/base",
            "_model_module_version": "1.5.0",
            "_view_count": null,
            "_view_module_version": "1.2.0",
            "_model_module": "@jupyter-widgets/controls"
          }
        },
        "9c5a57d469a24b6898fdc3449941f42b": {
          "model_module": "@jupyter-widgets/base",
          "model_name": "LayoutModel",
          "model_module_version": "1.2.0",
          "state": {
            "_view_name": "LayoutView",
            "grid_template_rows": null,
            "right": null,
            "justify_content": null,
            "_view_module": "@jupyter-widgets/base",
            "overflow": null,
            "_model_module_version": "1.2.0",
            "_view_count": null,
            "flex_flow": null,
            "width": null,
            "min_width": null,
            "border": null,
            "align_items": null,
            "bottom": null,
            "_model_module": "@jupyter-widgets/base",
            "top": null,
            "grid_column": null,
            "overflow_y": null,
            "overflow_x": null,
            "grid_auto_flow": null,
            "grid_area": null,
            "grid_template_columns": null,
            "flex": null,
            "_model_name": "LayoutModel",
            "justify_items": null,
            "grid_row": null,
            "max_height": null,
            "align_content": null,
            "visibility": null,
            "align_self": null,
            "height": null,
            "min_height": null,
            "padding": null,
            "grid_auto_rows": null,
            "grid_gap": null,
            "max_width": null,
            "order": null,
            "_view_module_version": "1.2.0",
            "grid_template_areas": null,
            "object_position": null,
            "object_fit": null,
            "grid_auto_columns": null,
            "margin": null,
            "display": null,
            "left": null
          }
        }
      }
    }
  },
  "nbformat": 4,
  "nbformat_minor": 0
}